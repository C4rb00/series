{
 "cells": [
  {
   "cell_type": "markdown",
   "metadata": {},
   "source": [
    "## Librerias"
   ]
  },
  {
   "cell_type": "code",
   "execution_count": 68,
   "metadata": {},
   "outputs": [],
   "source": [
    "import pandas as pd\n",
    "from scipy.stats import shapiro\n",
    "import numpy as np\n",
    "from matplotlib import pyplot as plt\n",
    "from statsmodels.graphics.tsaplots import plot_acf, plot_pacf\n",
    "from statsmodels.tsa.arima.model import ARIMA\n",
    "import statsmodels.api as sm\n",
    "import statsmodels.tsa.api as smtsa\n",
    "from statsmodels.tsa.stattools import adfuller\n",
    "from scipy.stats import kstest\n",
    "import datetime  # Usar la biblioteca estándar datetime\n",
    "plt.rcParams['text.usetex'] = False  # Desactivar el uso de LaTeX\n",
    "from matplotlib.pyplot import figure, plot, xlabel, ylabel, legend, close, subplots, title\n",
    "import requests\n",
    "import io\n",
    "from statsmodels.tsa import stattools\n",
    "from sklearn.metrics import r2_score\n",
    "import seaborn as sns\n",
    "# from pmdarima import arima\n",
    "# from pmdarima import datasets\n",
    "# from pmdarima import utils\n",
    "import warnings\n",
    "import ta\n",
    "import yfinance as yf\n",
    "from ta import trend\n",
    "from statsmodels.tsa import seasonal\n",
    "import os\n",
    "import pickle\n",
    "warnings.simplefilter(action=\"ignore\", category=FutureWarning)\n",
    "from sklearn.model_selection import TimeSeriesSplit\n",
    "from statsmodels.tsa.api import ExponentialSmoothing\n",
    "from sklearn.metrics import mean_squared_error\n"
   ]
  },
  {
   "cell_type": "markdown",
   "metadata": {},
   "source": [
    "## Procesamiento de los datos"
   ]
  },
  {
   "cell_type": "code",
   "execution_count": 42,
   "metadata": {},
   "outputs": [
    {
     "name": "stderr",
     "output_type": "stream",
     "text": [
      "[*********************100%***********************]  1 of 1 completed"
     ]
    },
    {
     "name": "stdout",
     "output_type": "stream",
     "text": [
      "        Date      Open      High       Low     Close  Adj Close      Volume\n",
      "0 2022-01-01  0.831281  0.853198  0.830741  0.849472   0.849472  1156464024\n",
      "1 2022-01-02  0.849442  0.863558  0.839157  0.859118   0.859118  1134033205\n",
      "2 2022-01-03  0.859107  0.859107  0.824052  0.832885   0.832885  1428968710\n",
      "3 2022-01-04  0.832851  0.844076  0.819615  0.824673   0.824673  1514079366\n",
      "4 2022-01-05  0.824714  0.835533  0.732704  0.774358   0.774358  2252733064\n"
     ]
    },
    {
     "name": "stderr",
     "output_type": "stream",
     "text": [
      "\n"
     ]
    }
   ],
   "source": [
    "# Descargar datos históricos de XRP-USD\n",
    "data = yf.download('XRP-USD', start='2022-01-01', end='2023-01-01')\n",
    "data = data.reset_index()\n",
    "# Mostrar los primeros registros del dataset para revisión\n",
    "print(data.head())"
   ]
  },
  {
   "cell_type": "markdown",
   "metadata": {},
   "source": [
    "### Info datos"
   ]
  },
  {
   "cell_type": "code",
   "execution_count": 43,
   "metadata": {},
   "outputs": [
    {
     "name": "stdout",
     "output_type": "stream",
     "text": [
      "<class 'pandas.core.frame.DataFrame'>\n",
      "RangeIndex: 365 entries, 0 to 364\n",
      "Data columns (total 7 columns):\n",
      " #   Column     Non-Null Count  Dtype         \n",
      "---  ------     --------------  -----         \n",
      " 0   Date       365 non-null    datetime64[ns]\n",
      " 1   Open       365 non-null    float64       \n",
      " 2   High       365 non-null    float64       \n",
      " 3   Low        365 non-null    float64       \n",
      " 4   Close      365 non-null    float64       \n",
      " 5   Adj Close  365 non-null    float64       \n",
      " 6   Volume     365 non-null    int64         \n",
      "dtypes: datetime64[ns](1), float64(5), int64(1)\n",
      "memory usage: 20.1 KB\n"
     ]
    }
   ],
   "source": [
    "data.info()# Información relevante de la data"
   ]
  },
  {
   "cell_type": "markdown",
   "metadata": {},
   "source": [
    "Notamos que no hay datos faltantes.\n",
    "\n",
    "######  ${\\huge\\bf\\mathcal{Análisis\\ Exploratorio\\ de\\ la\\ serie\\ de\\ tiempo\\ }}$"
   ]
  },
  {
   "cell_type": "code",
   "execution_count": 44,
   "metadata": {},
   "outputs": [
    {
     "data": {
      "text/html": [
       "<div>\n",
       "<style scoped>\n",
       "    .dataframe tbody tr th:only-of-type {\n",
       "        vertical-align: middle;\n",
       "    }\n",
       "\n",
       "    .dataframe tbody tr th {\n",
       "        vertical-align: top;\n",
       "    }\n",
       "\n",
       "    .dataframe thead th {\n",
       "        text-align: right;\n",
       "    }\n",
       "</style>\n",
       "<table border=\"1\" class=\"dataframe\">\n",
       "  <thead>\n",
       "    <tr style=\"text-align: right;\">\n",
       "      <th></th>\n",
       "      <th>Date</th>\n",
       "      <th>Open</th>\n",
       "      <th>High</th>\n",
       "      <th>Low</th>\n",
       "      <th>Close</th>\n",
       "      <th>Adj Close</th>\n",
       "      <th>Volume</th>\n",
       "    </tr>\n",
       "  </thead>\n",
       "  <tbody>\n",
       "    <tr>\n",
       "      <th>count</th>\n",
       "      <td>365</td>\n",
       "      <td>365.000000</td>\n",
       "      <td>365.000000</td>\n",
       "      <td>365.000000</td>\n",
       "      <td>365.000000</td>\n",
       "      <td>365.000000</td>\n",
       "      <td>3.650000e+02</td>\n",
       "    </tr>\n",
       "    <tr>\n",
       "      <th>mean</th>\n",
       "      <td>2022-07-01 23:59:59.999999744</td>\n",
       "      <td>0.514344</td>\n",
       "      <td>0.527474</td>\n",
       "      <td>0.498065</td>\n",
       "      <td>0.513003</td>\n",
       "      <td>0.513003</td>\n",
       "      <td>1.686076e+09</td>\n",
       "    </tr>\n",
       "    <tr>\n",
       "      <th>min</th>\n",
       "      <td>2022-01-01 00:00:00</td>\n",
       "      <td>0.308033</td>\n",
       "      <td>0.317014</td>\n",
       "      <td>0.290579</td>\n",
       "      <td>0.308090</td>\n",
       "      <td>0.308090</td>\n",
       "      <td>2.253910e+08</td>\n",
       "    </tr>\n",
       "    <tr>\n",
       "      <th>25%</th>\n",
       "      <td>2022-04-02 00:00:00</td>\n",
       "      <td>0.366025</td>\n",
       "      <td>0.376724</td>\n",
       "      <td>0.352447</td>\n",
       "      <td>0.365723</td>\n",
       "      <td>0.365723</td>\n",
       "      <td>1.028960e+09</td>\n",
       "    </tr>\n",
       "    <tr>\n",
       "      <th>50%</th>\n",
       "      <td>2022-07-02 00:00:00</td>\n",
       "      <td>0.422457</td>\n",
       "      <td>0.441267</td>\n",
       "      <td>0.405365</td>\n",
       "      <td>0.422337</td>\n",
       "      <td>0.422337</td>\n",
       "      <td>1.456446e+09</td>\n",
       "    </tr>\n",
       "    <tr>\n",
       "      <th>75%</th>\n",
       "      <td>2022-10-01 00:00:00</td>\n",
       "      <td>0.712790</td>\n",
       "      <td>0.728245</td>\n",
       "      <td>0.694275</td>\n",
       "      <td>0.707705</td>\n",
       "      <td>0.707705</td>\n",
       "      <td>2.091887e+09</td>\n",
       "    </tr>\n",
       "    <tr>\n",
       "      <th>max</th>\n",
       "      <td>2022-12-31 00:00:00</td>\n",
       "      <td>0.877515</td>\n",
       "      <td>0.911137</td>\n",
       "      <td>0.855211</td>\n",
       "      <td>0.878194</td>\n",
       "      <td>0.878194</td>\n",
       "      <td>7.798771e+09</td>\n",
       "    </tr>\n",
       "    <tr>\n",
       "      <th>std</th>\n",
       "      <td>NaN</td>\n",
       "      <td>0.181334</td>\n",
       "      <td>0.186086</td>\n",
       "      <td>0.176290</td>\n",
       "      <td>0.180812</td>\n",
       "      <td>0.180812</td>\n",
       "      <td>9.666847e+08</td>\n",
       "    </tr>\n",
       "  </tbody>\n",
       "</table>\n",
       "</div>"
      ],
      "text/plain": [
       "                                Date        Open        High         Low  \\\n",
       "count                            365  365.000000  365.000000  365.000000   \n",
       "mean   2022-07-01 23:59:59.999999744    0.514344    0.527474    0.498065   \n",
       "min              2022-01-01 00:00:00    0.308033    0.317014    0.290579   \n",
       "25%              2022-04-02 00:00:00    0.366025    0.376724    0.352447   \n",
       "50%              2022-07-02 00:00:00    0.422457    0.441267    0.405365   \n",
       "75%              2022-10-01 00:00:00    0.712790    0.728245    0.694275   \n",
       "max              2022-12-31 00:00:00    0.877515    0.911137    0.855211   \n",
       "std                              NaN    0.181334    0.186086    0.176290   \n",
       "\n",
       "            Close   Adj Close        Volume  \n",
       "count  365.000000  365.000000  3.650000e+02  \n",
       "mean     0.513003    0.513003  1.686076e+09  \n",
       "min      0.308090    0.308090  2.253910e+08  \n",
       "25%      0.365723    0.365723  1.028960e+09  \n",
       "50%      0.422337    0.422337  1.456446e+09  \n",
       "75%      0.707705    0.707705  2.091887e+09  \n",
       "max      0.878194    0.878194  7.798771e+09  \n",
       "std      0.180812    0.180812  9.666847e+08  "
      ]
     },
     "execution_count": 44,
     "metadata": {},
     "output_type": "execute_result"
    }
   ],
   "source": [
    "data.describe()"
   ]
  },
  {
   "cell_type": "markdown",
   "metadata": {},
   "source": [
    "**Gráfico de la serie, autocorrelación y autocorrelación parcial**"
   ]
  },
  {
   "cell_type": "code",
   "execution_count": 45,
   "metadata": {},
   "outputs": [
    {
     "data": {
      "image/png": "[encoded data removed]",
      "text/plain": [
       "<Figure size 700x400 with 1 Axes>"
      ]
     },
     "metadata": {},
     "output_type": "display_data"
    },
    {
     "data": {
      "image/png": "[encoded data removed]",
      "text/plain": [
       "<Figure size 700x400 with 1 Axes>"
      ]
     },
     "metadata": {},
     "output_type": "display_data"
    },
    {
     "data": {
      "image/png": "[encoded data removed]",
      "text/plain": [
       "<Figure size 700x400 with 1 Axes>"
      ]
     },
     "metadata": {},
     "output_type": "display_data"
    }
   ],
   "source": [
    "if data['Adj Close'].isnull().sum() > 0:\n",
    "    data['Adj Close'] = data['Adj Close'].fillna(method='ffill')\n",
    "\n",
    "\n",
    "plt.rcParams.update({'figure.figsize': (7, 4)})\n",
    "plt.rcParams['text.usetex'] = False  # Desactivar el uso de LaTeX\n",
    "\n",
    "nlag = 50\n",
    "\n",
    "# Serie original\n",
    "data['Adj Close'].plot(color='r')\n",
    "plt.title('Serie Original')\n",
    "plt.xlabel('Date')\n",
    "plt.ylabel('Adj Close')\n",
    "plt.show()\n",
    "\n",
    "# Autocorrelación y autocorrelación parcial\n",
    "plot_acf(data['Adj Close'], lags=nlag, linewidth=0.5)  # Autocorrelación\n",
    "plt.show()\n",
    "\n",
    "plot_pacf(data['Adj Close'], lags=45, linewidth=0.5)  # Autocorrelación Parcial\n",
    "plt.show()"
   ]
  },
  {
   "cell_type": "markdown",
   "metadata": {},
   "source": [
    "1. El patrón observado sugiere una serie con tendencia, ya que los primeros rezagos muestran una autocorrelación fuerte y positiva.\n",
    "2. Este tipo de patrón es típico de una serie que podría ajustarse bien a un modelo autoregresivo (AR), donde los valores futuros dependen de sus valores pasados.\n",
    "3. La forma de este PACF, con una fuerte correlación en el lag 1 y ninguna correlación significativa más allá de eso, es típica de una serie temporal que podría ajustarse bien a un modelo AR(1) (Autoregressive Model de orden 1). En este tipo de modelo, el valor actual está determinado principalmente por el valor inmediato anterior."
   ]
  },
  {
   "cell_type": "markdown",
   "metadata": {},
   "source": [
    "En presencia de una autocorrelación, es necesario diferenciar la serie del precio de cierre de XRP. por tal motivo las hipótesis a plantear son:\n",
    "\n",
    " **H0 : ρ =0** La serie tiene una raíz unitaria y no es estacionaria.\n",
    "\n",
    " **H1 : ρ <0** La serie no tiene una raíz unitaria y es estacionaria."
   ]
  },
  {
   "cell_type": "code",
   "execution_count": 46,
   "metadata": {},
   "outputs": [
    {
     "name": "stdout",
     "output_type": "stream",
     "text": [
      "ADF Statistic: -1.705680\n",
      "p-value: 0.428188\n"
     ]
    }
   ],
   "source": [
    "adf_result = adfuller(data[\"Adj Close\"].tolist())\n",
    "print('ADF Statistic: %f' % adf_result[0])\n",
    "print('p-value: %f' % adf_result[1])"
   ]
  },
  {
   "cell_type": "markdown",
   "metadata": {},
   "source": [
    "* Idealmente, un valor más negativo del estadístico ADF representará una señal estacionaria, en este caso de **XRP** (-1.131586), podria **NO** ser  **Estacionaria**\n",
    "\n",
    "\n",
    "\n",
    "* Dado que **𝑝-value**= 0.428188 > 0.05. de Adfuller es mayor que un determinado valor alfa especificado (5%, nivel de significación o intervalo de confianza del 95%), No se rechaza la hipótesis nula (𝐻𝑜) es decir, la serie temporal No es estacionaria."
   ]
  },
  {
   "cell_type": "markdown",
   "metadata": {},
   "source": [
    "**Descomposición de la serie**"
   ]
  },
  {
   "cell_type": "code",
   "execution_count": 47,
   "metadata": {},
   "outputs": [],
   "source": [
    "decompose_model = seasonal.seasonal_decompose(data[\"Adj Close\"].tolist(),\n",
    "period=20, model='additive')"
   ]
  },
  {
   "cell_type": "code",
   "execution_count": 48,
   "metadata": {},
   "outputs": [
    {
     "data": {
      "text/plain": [
       "Text(0.5, 1.0, 'Variaciones irregulares del precio de cierre XRP')"
      ]
     },
     "execution_count": 48,
     "metadata": {},
     "output_type": "execute_result"
    },
    {
     "data": {
      "image/png": "[encoded data removed]",
      "text/plain": [
       "<Figure size 700x1200 with 4 Axes>"
      ]
     },
     "metadata": {},
     "output_type": "display_data"
    }
   ],
   "source": [
    "fig, axarr = plt.subplots(4, sharex=True)\n",
    "fig.set_size_inches(7, 12)\n",
    "\n",
    "data['Adj Close'].plot(ax=axarr[0], color='b', linestyle='-')\n",
    "axarr[0].set_title('XRP')\n",
    "\n",
    "pd.Series(data=decompose_model.trend, index=data.index).plot(color='r',\n",
    "linestyle='-', ax=axarr[1])\n",
    "axarr[1].set_title('Componente tendencial del precio de cierre XRP')\n",
    "\n",
    "pd.Series(data=decompose_model.seasonal, index=data.index).plot(color='g',\n",
    "linestyle='-', ax=axarr[2])\n",
    "axarr[2].set_title('Componente estacional del precio de cierre XRP')\n",
    "\n",
    "pd.Series(data=decompose_model.resid, index=data.index).plot(color='k',\n",
    "linestyle='-', ax=axarr[3])\n",
    "axarr[3].set_title('Variaciones irregulares del precio de cierre XRP')"
   ]
  },
  {
   "cell_type": "markdown",
   "metadata": {},
   "source": [
    "En este caso, parece haber un ciclo estacional periódico muy pronunciado y regular, con subidas y bajadas repetitivas que ocurren en intervalos similares.\n",
    "\n",
    "Al observar las variaciones irregulares, podemos notar picos significativos a principios de año (por ejemplo, febrero), que podrían deberse a eventos o noticias inesperadas en el mercado. A lo largo del año, la volatilidad parece disminuir, aunque sigue habiendo variaciones más pequeñas y esporádicas."
   ]
  },
  {
   "cell_type": "code",
   "execution_count": 49,
   "metadata": {},
   "outputs": [
    {
     "name": "stdout",
     "output_type": "stream",
     "text": [
      "p-val de la prueba ADF sobre variaciones irregulares en los datos del precio BNB: 6.891765254891947e-09\n"
     ]
    }
   ],
   "source": [
    "adf_result = stattools.adfuller(decompose_model.resid[np.where(np.isfinite(decompose_model.resid))[0]],autolag='AIC')\n",
    "print('p-val de la prueba ADF sobre variaciones irregulares en los datos del precio BNB:',\n",
    "adf_result[1])"
   ]
  },
  {
   "cell_type": "markdown",
   "metadata": {},
   "source": [
    "la serie ha sido modelada correctamente en términos de sus componentes observables (tendencia y estacionalidad), y que las variaciones no siguen ningún patrón predecible, lo que es esperable en los residuos de un buen modelo."
   ]
  },
  {
   "cell_type": "markdown",
   "metadata": {},
   "source": [
    "**Prueba de Normalidad**"
   ]
  },
  {
   "cell_type": "code",
   "execution_count": 50,
   "metadata": {},
   "outputs": [
    {
     "name": "stderr",
     "output_type": "stream",
     "text": [
      "c:\\Users\\EMANUEL\\miniconda3\\envs\\Eda\\lib\\site-packages\\statsmodels\\graphics\\gofplots.py:1043: UserWarning:\n",
      "\n",
      "color is redundantly defined by the 'color' keyword argument and the fmt string \"b\" (-> color=(0.0, 0.0, 1.0, 1)). The keyword argument will take precedence.\n",
      "\n"
     ]
    },
    {
     "data": {
      "image/png": "[encoded data removed]",
      "text/plain": [
       "<Figure size 800x600 with 1 Axes>"
      ]
     },
     "metadata": {},
     "output_type": "display_data"
    }
   ],
   "source": [
    "decompose_model = seasonal.seasonal_decompose(data['Adj Close'], period=20, model='additive')\n",
    "\n",
    "plt.rcParams.update({'figure.figsize': (8, 6)})\n",
    "fig = sm.qqplot(decompose_model.resid.dropna(), line='s', alpha=0.5, color='b', lw=2)\n",
    "plt.title('Q-Q Plot of Residuals')\n",
    "plt.xlabel('Theoretical Quantiles')\n",
    "plt.ylabel('Sample Quantiles')\n",
    "\n",
    "plt.grid(True)\n",
    "plt.show()"
   ]
  },
  {
   "cell_type": "markdown",
   "metadata": {},
   "source": [
    "los residuos siguen una distribución aproximadamente normal, especialmente en la parte central de la distribución. Sin embargo, hay algunas desviaciones en los extremos, lo que indica que hay más valores extremos (outliers) de lo que una distribución normal esperaría. Esto es común en datos financieros y puede deberse a eventos no previstos o anomalías en los precios de XRP."
   ]
  },
  {
   "cell_type": "markdown",
   "metadata": {},
   "source": [
    "La normalidad también puede evaluarse mediante la prueba de **Shapiro-Wilk** para la presencia de una normalidad se plantean las siguientes hipótesis\n",
    "\n",
    " **H0 :  La muestra parece provenir de una distribución normal**\n",
    "\n",
    " **H1 : La muestra no parece provenir de una distribución normal**\n"
   ]
  },
  {
   "cell_type": "code",
   "execution_count": 51,
   "metadata": {},
   "outputs": [
    {
     "name": "stdout",
     "output_type": "stream",
     "text": [
      "Statistics=0.980, p=0.000\n",
      "La muestra no parece normal (se rechaza H0)\n"
     ]
    }
   ],
   "source": [
    "resid_clean = decompose_model.resid.replace([np.inf, -np.inf], np.nan).dropna()\n",
    "\n",
    "# Realizar la prueba de Shapiro-Wilk\n",
    "stat, p = shapiro(resid_clean)\n",
    "print('Statistics=%.3f, p=%.3f' % (stat, p))\n",
    "\n",
    "# Interpretación de los resultados\n",
    "alpha = 0.05\n",
    "if p > alpha:\n",
    "    print('La muestra parece normal (no se rechaza H0)')\n",
    "else:\n",
    "    print('La muestra no parece normal (se rechaza H0)')"
   ]
  },
  {
   "cell_type": "code",
   "execution_count": 52,
   "metadata": {},
   "outputs": [
    {
     "name": "stdout",
     "output_type": "stream",
     "text": [
      "Index(['Date', 'Open', 'High', 'Low', 'Close', 'Adj Close', 'Volume'], dtype='object')\n"
     ]
    }
   ],
   "source": [
    "print(data.columns)\n"
   ]
  },
  {
   "cell_type": "code",
   "execution_count": 53,
   "metadata": {},
   "outputs": [
    {
     "data": {
      "application/vnd.plotly.v1+json": {
       "config": {
        "plotlyServerURL": "https://plot.ly"
       },
       "data": [
        {
         "close": [
          0.8494719862937927,
          0.8591179847717285,
          0.8328850269317627,
          0.8246729969978333,
          0.7743579745292664,
          0.7813460230827332,
          0.7630739808082581,
          0.7476879954338074,
          0.7545049786567688,
          0.7393350005149841,
          0.7705540060997009,
          0.7995479702949524,
          0.7683280110359192,
          0.7742969989776611,
          0.7814229726791382,
          0.778954029083252,
          0.7627419829368591,
          0.7526310086250305,
          0.739749014377594,
          0.7194210290908813,
          0.6357380151748657,
          0.5960419774055481,
          0.6287559866905212,
          0.6121389865875244,
          0.617563009262085,
          0.6220719814300537,
          0.6087700128555298,
          0.6125119924545288,
          0.6169350147247314,
          0.603181004524231,
          0.6191490292549133,
          0.6292330026626587,
          0.6014829874038696,
          0.6076840162277222,
          0.6558769941329956,
          0.6671270132064819,
          0.6836469769477844,
          0.8278189897537231,
          0.8781939744949341,
          0.8706269860267639,
          0.8300099968910217,
          0.7602260112762451,
          0.8224080204963684,
          0.8102729916572571,
          0.8022180199623108,
          0.8523330092430115,
          0.8390359878540039,
          0.7671729922294617,
          0.7858899831771851,
          0.8225280046463013,
          0.7782959938049316,
          0.70346599817276,
          0.722832977771759,
          0.6987460255622864,
          0.6962720155715942,
          0.7689030170440674,
          0.7509729862213135,
          0.721992015838623,
          0.782043993473053,
          0.7848619818687439,
          0.7684959769248962,
          0.7521849870681763,
          0.7126719951629639,
          0.7548999786376953,
          0.7259939908981323,
          0.7232869863510132,
          0.7209770083427429,
          0.7672359943389893,
          0.7374650239944458,
          0.8021550178527832,
          0.7865869998931885,
          0.7613509893417358,
          0.7746559977531433,
          0.7667829990386963,
          0.793537974357605,
          0.7935029864311218,
          0.7982659935951233,
          0.8193730115890503,
          0.8061209917068481,
          0.8381519913673401,
          0.8370969891548157,
          0.8378869891166687,
          0.8429679870605469,
          0.8251270055770874,
          0.8327720165252686,
          0.8573430180549622,
          0.8633040189743042,
          0.8579999804496765,
          0.8608139753341675,
          0.8145639896392822,
          0.8277400135993958,
          0.8249189853668213,
          0.8429499864578247,
          0.8272510170936584,
          0.8176419734954834,
          0.7613139748573303,
          0.7879999876022339,
          0.7540559768676758,
          0.7635849714279175,
          0.7566140294075012,
          0.6950230002403259,
          0.7166140079498291,
          0.7238500118255615,
          0.7268189787864685,
          0.7856749892234802,
          0.781840980052948,
          0.7531539797782898,
          0.7680169939994812,
          0.7750629782676697,
          0.7521780133247375,
          0.7331780195236206,
          0.7191939949989319,
          0.707705020904541,
          0.6987389922142029,
          0.6944260001182556,
          0.6416990160942078,
          0.652318000793457,
          0.6443629860877991,
          0.6114069819450378,
          0.5870910286903381,
          0.6078439950942993,
          0.6142690181732178,
          0.6048489809036255,
          0.6464740037918091,
          0.5988860130310059,
          0.6025699973106384,
          0.5823469758033752,
          0.5665270090103149,
          0.4929400086402893,
          0.513625979423523,
          0.41337600350379944,
          0.385206013917923,
          0.42341700196266174,
          0.42777401208877563,
          0.4473710060119629,
          0.42249900102615356,
          0.437622994184494,
          0.4061659872531891,
          0.41997599601745605,
          0.41113701462745667,
          0.41467300057411194,
          0.42233699560165405,
          0.4046710133552551,
          0.4087130129337311,
          0.4057849943637848,
          0.39316999912261963,
          0.3817870020866394,
          0.3863230049610138,
          0.3890160024166107,
          0.41817501187324524,
          0.4218670129776001,
          0.39808499813079834,
          0.4053019881248474,
          0.3907659947872162,
          0.3923090100288391,
          0.3953799903392792,
          0.4030109941959381,
          0.4077019989490509,
          0.40064799785614014,
          0.4003239870071411,
          0.38173601031303406,
          0.3590250015258789,
          0.3454900085926056,
          0.31080201268196106,
          0.32214298844337463,
          0.3437030017375946,
          0.3120560050010681,
          0.32138100266456604,
          0.3080900013446808,
          0.3260529935359955,
          0.32334598898887634,
          0.32862600684165955,
          0.32258498668670654,
          0.33553099632263184,
          0.36758700013160706,
          0.36755600571632385,
          0.3588640093803406,
          0.35323500633239746,
          0.3373290002346039,
          0.3289780020713806,
          0.3314479887485504,
          0.31367701292037964,
          0.31557899713516235,
          0.3217029869556427,
          0.32879000902175903,
          0.325423002243042,
          0.3322719931602478,
          0.3421509861946106,
          0.34162798523902893,
          0.3449519872665405,
          0.3256630003452301,
          0.31429699063301086,
          0.3116590082645416,
          0.3237299919128418,
          0.3332209885120392,
          0.33453500270843506,
          0.3508610129356384,
          0.34341201186180115,
          0.3661769926548004,
          0.37322500348091125,
          0.3604840040206909,
          0.36703601479530334,
          0.3586040139198303,
          0.35954099893569946,
          0.3592599928379059,
          0.33731499314308167,
          0.3378159999847412,
          0.3591180145740509,
          0.3733760118484497,
          0.36867499351501465,
          0.38776400685310364,
          0.3804579973220825,
          0.3799760043621063,
          0.37202098965644836,
          0.3698520064353943,
          0.3713510036468506,
          0.37659499049186707,
          0.37157100439071655,
          0.3725059926509857,
          0.37875398993492126,
          0.36810100078582764,
          0.3810650110244751,
          0.38056299090385437,
          0.3799949884414673,
          0.37796398997306824,
          0.3764509856700897,
          0.37577399611473083,
          0.3772369921207428,
          0.379707008600235,
          0.37096500396728516,
          0.33504900336265564,
          0.33754101395606995,
          0.3453019857406616,
          0.3447209894657135,
          0.34709200263023376,
          0.34614500403404236,
          0.349496990442276,
          0.3383699953556061,
          0.3353469967842102,
          0.3230949938297272,
          0.33379700779914856,
          0.32686901092529297,
          0.3278700113296509,
          0.33319398760795593,
          0.33125901222229004,
          0.32996898889541626,
          0.3317990005016327,
          0.33296000957489014,
          0.3222079873085022,
          0.3373669981956482,
          0.34024500846862793,
          0.3575170040130615,
          0.357681006193161,
          0.355118989944458,
          0.3594450056552887,
          0.3336920142173767,
          0.3420819938182831,
          0.32633501291275024,
          0.356687992811203,
          0.3770039975643158,
          0.35832300782203674,
          0.38707301020622253,
          0.41518300771713257,
          0.3968279957771301,
          0.48510101437568665,
          0.5071709752082825,
          0.4887160062789917,
          0.49262699484825134,
          0.4676780104637146,
          0.4487760066986084,
          0.4506720006465912,
          0.4854170083999634,
          0.47977399826049805,
          0.4751099944114685,
          0.44885000586509705,
          0.4628790020942688,
          0.4801740050315857,
          0.48968300223350525,
          0.49318400025367737,
          0.5182780027389526,
          0.5171129703521729,
          0.5340610146522522,
          0.49701398611068726,
          0.48539701104164124,
          0.48837000131607056,
          0.4808120131492615,
          0.4889659881591797,
          0.48150700330734253,
          0.47701001167297363,
          0.4799180030822754,
          0.4659770131111145,
          0.45122700929641724,
          0.4480839967727661,
          0.46109798550605774,
          0.46546998620033264,
          0.46903300285339355,
          0.45382100343704224,
          0.461544007062912,
          0.46937599778175354,
          0.4624069929122925,
          0.47398099303245544,
          0.47041600942611694,
          0.45845499634742737,
          0.4659149944782257,
          0.46457698941230774,
          0.450874000787735,
          0.4551349878311157,
          0.5044040083885193,
          0.4933300018310547,
          0.47067001461982727,
          0.46585699915885925,
          0.4062420129776001,
          0.3331809937953949,
          0.3957050144672394,
          0.38415899872779846,
          0.3636769950389862,
          0.3402960002422333,
          0.3764060139656067,
          0.3885209858417511,
          0.37630099058151245,
          0.38254401087760925,
          0.3830629885196686,
          0.3846989870071411,
          0.3619450032711029,
          0.36479899287223816,
          0.37606099247932434,
          0.38158100843429565,
          0.40199199318885803,
          0.40841200947761536,
          0.3966290056705475,
          0.396820992231369,
          0.39031800627708435,
          0.39854899048805237,
          0.4087429940700531,
          0.39670801162719727,
          0.3962729871273041,
          0.3881469964981079,
          0.390735000371933,
          0.3895840048789978,
          0.3920939862728119,
          0.3837209939956665,
          0.3945449888706207,
          0.38915300369262695,
          0.38669800758361816,
          0.3817490041255951,
          0.3873940110206604,
          0.39510199427604675,
          0.3864139914512634,
          0.3782370090484619,
          0.3519879877567291,
          0.3548099994659424,
          0.35027000308036804,
          0.33886998891830444,
          0.3493730127811432,
          0.34602001309394836,
          0.3495999872684479,
          0.3542729914188385,
          0.35217899084091187,
          0.3463920056819916,
          0.36572301387786865,
          0.3681260049343109,
          0.3565309941768646,
          0.34284600615501404,
          0.3450169861316681,
          0.3399290144443512
         ],
         "high": [
          0.8531979918479919,
          0.8635579943656921,
          0.8591070175170898,
          0.8440759778022766,
          0.8355330228805542,
          0.7892169952392578,
          0.7812700271606445,
          0.7750840187072754,
          0.7663210034370422,
          0.7585129737854004,
          0.7734609842300415,
          0.8060479760169983,
          0.8009510040283203,
          0.789355993270874,
          0.788864016532898,
          0.7839620113372803,
          0.7801799774169922,
          0.7680490016937256,
          0.753154993057251,
          0.7615829706192017,
          0.7282450199127197,
          0.6517930030822754,
          0.633994996547699,
          0.6287699937820435,
          0.6212289929389954,
          0.6525490283966064,
          0.6235079765319824,
          0.6128609776496887,
          0.6234059929847717,
          0.6225460171699524,
          0.6223139762878418,
          0.630316972732544,
          0.6306949853897095,
          0.6076840162277222,
          0.656495988368988,
          0.6836820244789124,
          0.6851930022239685,
          0.8341550230979919,
          0.9111369848251343,
          0.9090669751167297,
          0.8946149945259094,
          0.8299409747123718,
          0.8488379716873169,
          0.8442999720573425,
          0.8104739785194397,
          0.8558570146560669,
          0.8523769974708557,
          0.8441330194473267,
          0.8039050102233887,
          0.8498160243034363,
          0.8226720094680786,
          0.7997499704360962,
          0.7251909971237183,
          0.7389230132102966,
          0.7128909826278687,
          0.7689030170440674,
          0.7881870269775391,
          0.7648730278015137,
          0.7883219718933105,
          0.8006349802017212,
          0.7848910093307495,
          0.7839249968528748,
          0.7530519962310791,
          0.7660850286483765,
          0.7583839893341064,
          0.7516679763793945,
          0.7292870283126831,
          0.7698889970779419,
          0.7754999995231628,
          0.8083329796791077,
          0.8459619879722595,
          0.8036320209503174,
          0.7759349942207336,
          0.7758110165596008,
          0.7936149835586548,
          0.8005679845809937,
          0.7991120219230652,
          0.825232982635498,
          0.8208140134811401,
          0.8511260151863098,
          0.8629260063171387,
          0.8441460132598877,
          0.8493279814720154,
          0.8440849781036377,
          0.8343070149421692,
          0.857375979423523,
          0.9080860018730164,
          0.8844410181045532,
          0.8712790012359619,
          0.8708660006523132,
          0.8336780071258545,
          0.8485999703407288,
          0.8501539826393127,
          0.8429520130157471,
          0.8332870006561279,
          0.8184049725532532,
          0.7894840240478516,
          0.7929850220680237,
          0.7660620212554932,
          0.7724660038948059,
          0.7564219832420349,
          0.7215920090675354,
          0.7247589826583862,
          0.7401549816131592,
          0.7936800122261047,
          0.7971289753913879,
          0.7844079732894897,
          0.7681940197944641,
          0.7801910042762756,
          0.7750549912452698,
          0.7647619843482971,
          0.7381619811058044,
          0.7246689796447754,
          0.7118300199508667,
          0.6989399790763855,
          0.7040960192680359,
          0.6613770127296448,
          0.6553440093994141,
          0.645609974861145,
          0.6271420121192932,
          0.6102319955825806,
          0.6293100118637085,
          0.6250830292701721,
          0.6478449702262878,
          0.655036985874176,
          0.6134819984436035,
          0.6038399934768677,
          0.5826339721679688,
          0.5759940147399902,
          0.5352990031242371,
          0.5216230154037476,
          0.42648300528526306,
          0.462336003780365,
          0.4395039975643158,
          0.447613000869751,
          0.44756901264190674,
          0.4390920102596283,
          0.4412670135498047,
          0.4223630130290985,
          0.4375059902667999,
          0.4172559976577759,
          0.4243369996547699,
          0.42783498764038086,
          0.41328901052474976,
          0.4129660129547119,
          0.4101189970970154,
          0.4012799859046936,
          0.3881149888038635,
          0.38949599862098694,
          0.41870200634002686,
          0.42967599630355835,
          0.42511799931526184,
          0.40666401386260986,
          0.4094400107860565,
          0.39346298575401306,
          0.3993369936943054,
          0.408486008644104,
          0.4164769947528839,
          0.4098930060863495,
          0.40360701084136963,
          0.4099160134792328,
          0.3880560100078583,
          0.3646950125694275,
          0.3488770127296448,
          0.32352399826049805,
          0.3448309898376465,
          0.3453730046749115,
          0.3385379910469055,
          0.32571399211883545,
          0.3304769992828369,
          0.3280470073223114,
          0.3360629975795746,
          0.32905998826026917,
          0.3360759913921356,
          0.3846589922904968,
          0.3722819983959198,
          0.3737320005893707,
          0.36599200963974,
          0.3552669882774353,
          0.3411029875278473,
          0.3314580023288727,
          0.333077996969223,
          0.31701400876045227,
          0.32524698972702026,
          0.32910001277923584,
          0.33015599846839905,
          0.3330250084400177,
          0.34352099895477295,
          0.3565090000629425,
          0.34704700112342834,
          0.3449299931526184,
          0.32856300473213196,
          0.3176009953022003,
          0.32507601380348206,
          0.3332209885120392,
          0.3462100028991699,
          0.35530000925064087,
          0.359919011592865,
          0.368833988904953,
          0.37598899006843567,
          0.38106000423431396,
          0.3679560124874115,
          0.3708379864692688,
          0.362619012594223,
          0.36656200885772705,
          0.3601840138435364,
          0.3378159999847412,
          0.35912999510765076,
          0.37773799896240234,
          0.37909600138664246,
          0.40793898701667786,
          0.39787501096725464,
          0.38539600372314453,
          0.3914799988269806,
          0.37683001160621643,
          0.37459099292755127,
          0.3778989911079407,
          0.37706100940704346,
          0.3767240047454834,
          0.3841420114040375,
          0.3796660006046295,
          0.3810650110244751,
          0.3851099908351898,
          0.3805379867553711,
          0.38603800535202026,
          0.3909299969673157,
          0.38478100299835205,
          0.37762901186943054,
          0.39089301228523254,
          0.3808619976043701,
          0.3709689974784851,
          0.3423829972743988,
          0.3481670022010803,
          0.3452819883823395,
          0.34769099950790405,
          0.3521359860897064,
          0.3513660132884979,
          0.36956799030303955,
          0.3402490019798279,
          0.33716100454330444,
          0.33379700779914856,
          0.33548200130462646,
          0.33361300826072693,
          0.33319398760795593,
          0.3349339962005615,
          0.33255699276924133,
          0.33252599835395813,
          0.3332349956035614,
          0.34261998534202576,
          0.3384400010108948,
          0.34260299801826477,
          0.35756000876426697,
          0.3612470030784607,
          0.35953399538993835,
          0.3594450056552887,
          0.35964301228523254,
          0.34389299154281616,
          0.3424609899520874,
          0.35713401436805725,
          0.37888801097869873,
          0.39694100618362427,
          0.3914949893951416,
          0.42152100801467896,
          0.42832499742507935,
          0.49122899770736694,
          0.552282989025116,
          0.5150150060653687,
          0.518314003944397,
          0.4998610019683838,
          0.4852280020713806,
          0.45437899231910706,
          0.5029749870300293,
          0.4959869980812073,
          0.48351699113845825,
          0.4774340093135834,
          0.4675680100917816,
          0.4845980107784271,
          0.499330997467041,
          0.504086971282959,
          0.5216460227966309,
          0.5279020071029663,
          0.5414159893989563,
          0.537319004535675,
          0.5008909702301025,
          0.4947350025177002,
          0.4890959858894348,
          0.5095369815826416,
          0.4896700084209442,
          0.4871029853820801,
          0.4812619984149933,
          0.48335400223731995,
          0.466390997171402,
          0.4637860059738159,
          0.46109798550605774,
          0.47005999088287354,
          0.47100600600242615,
          0.47098198533058167,
          0.47101399302482605,
          0.4702509939670563,
          0.48045599460601807,
          0.4746739864349365,
          0.4816659986972809,
          0.4725100100040436,
          0.46611401438713074,
          0.46640101075172424,
          0.4652999937534332,
          0.4593620002269745,
          0.5051109790802002,
          0.5071030259132385,
          0.49429601430892944,
          0.4791699945926666,
          0.4666289985179901,
          0.40985798835754395,
          0.40045100450515747,
          0.3976829946041107,
          0.3841800093650818,
          0.36875900626182556,
          0.3778989911079407,
          0.3959369957447052,
          0.3902609944343567,
          0.3847860097885132,
          0.3863759934902191,
          0.38744398951530457,
          0.3935849964618683,
          0.3671959936618805,
          0.3776730000972748,
          0.3817889988422394,
          0.40397700667381287,
          0.41690999269485474,
          0.4122759997844696,
          0.4079110026359558,
          0.3987790048122406,
          0.40297600626945496,
          0.41081398725509644,
          0.40898099541664124,
          0.39758598804473877,
          0.3964180052280426,
          0.3928239941596985,
          0.39460301399230957,
          0.39225998520851135,
          0.3920910060405731,
          0.3950139880180359,
          0.3949289917945862,
          0.38931700587272644,
          0.3885340094566345,
          0.3887520134449005,
          0.3960849940776825,
          0.3952530026435852,
          0.38666099309921265,
          0.3796299993991852,
          0.35641801357269287,
          0.35495999455451965,
          0.35255300998687744,
          0.3528220057487488,
          0.350151002407074,
          0.3497900068759918,
          0.3545460104942322,
          0.35430198907852173,
          0.35218799114227295,
          0.36910301446914673,
          0.37226998805999756,
          0.36854299902915955,
          0.3572250008583069,
          0.34531301259994507,
          0.3450999855995178
         ],
         "low": [
          0.8307409882545471,
          0.839156985282898,
          0.8240519762039185,
          0.8196150064468384,
          0.7327039837837219,
          0.7442920207977295,
          0.7346169948577881,
          0.7278029918670654,
          0.7415339946746826,
          0.7054790258407593,
          0.7341510057449341,
          0.7596459984779358,
          0.7630820274353027,
          0.7556279897689819,
          0.7709490060806274,
          0.7709529995918274,
          0.7523519992828369,
          0.7394639849662781,
          0.726485013961792,
          0.719402015209198,
          0.623196005821228,
          0.5594210028648376,
          0.5938259959220886,
          0.5586680173873901,
          0.5898879766464233,
          0.6085879802703857,
          0.5914649963378906,
          0.5933970212936401,
          0.6102579832077026,
          0.5997710227966309,
          0.5828480124473572,
          0.6130499839782715,
          0.5991380214691162,
          0.5923489928245544,
          0.6051689982414246,
          0.6522679924964905,
          0.6623470187187195,
          0.6744019985198975,
          0.8061609864234924,
          0.8474010229110718,
          0.8299070000648499,
          0.7543309926986694,
          0.7530239820480347,
          0.7962769865989685,
          0.7825509905815125,
          0.7982959747314453,
          0.813139021396637,
          0.7582229971885681,
          0.7603300213813782,
          0.7736499905586243,
          0.769985020160675,
          0.7019889950752258,
          0.6787869930267334,
          0.6962800025939941,
          0.6270939707756042,
          0.6857939958572388,
          0.7436460256576538,
          0.710873007774353,
          0.7131879925727844,
          0.7612339854240417,
          0.7595980167388916,
          0.7389199733734131,
          0.705610990524292,
          0.7074790000915527,
          0.7257639765739441,
          0.709958016872406,
          0.7159389853477478,
          0.7210059762001038,
          0.7265679836273193,
          0.7276229858398438,
          0.7820590138435364,
          0.7584080100059509,
          0.7525740265846252,
          0.7456349730491638,
          0.7592189908027649,
          0.7844390273094177,
          0.779350996017456,
          0.7936090230941772,
          0.7982490062713623,
          0.7921599745750427,
          0.8299880027770996,
          0.8205729722976685,
          0.8296269774436951,
          0.8228740096092224,
          0.8223249912261963,
          0.8303390145301819,
          0.8552110195159912,
          0.8488609790802002,
          0.8494250178337097,
          0.8038809895515442,
          0.8102560043334961,
          0.824828028678894,
          0.817264974117279,
          0.8108900189399719,
          0.817110002040863,
          0.7612850069999695,
          0.7581139802932739,
          0.7508929967880249,
          0.7540410161018372,
          0.7551810145378113,
          0.6857380270957947,
          0.6942750215530396,
          0.7039980292320251,
          0.7105860114097595,
          0.7266169786453247,
          0.7692189812660217,
          0.7505530118942261,
          0.7323600053787231,
          0.7599610090255737,
          0.744376003742218,
          0.72502601146698,
          0.7164610028266907,
          0.707360029220581,
          0.6980249881744385,
          0.6482419967651367,
          0.6344169974327087,
          0.6403800249099731,
          0.6362680196762085,
          0.6039040088653564,
          0.5815759897232056,
          0.5810499787330627,
          0.6017900109291077,
          0.5981860160827637,
          0.604744017124176,
          0.5848119854927063,
          0.5916119813919067,
          0.5739279985427856,
          0.5627570152282715,
          0.48072201013565063,
          0.4781099855899811,
          0.382425993680954,
          0.3449540138244629,
          0.38273298740386963,
          0.39865800738334656,
          0.4166190028190613,
          0.41208600997924805,
          0.4211519956588745,
          0.4061659872531891,
          0.39748701453208923,
          0.40317800641059875,
          0.405364990234375,
          0.41109099984169006,
          0.40435799956321716,
          0.3936460018157959,
          0.3967599868774414,
          0.3807229995727539,
          0.37816599011421204,
          0.3817160129547119,
          0.3807620108127594,
          0.3876360058784485,
          0.4088990092277527,
          0.39261698722839355,
          0.3925530016422272,
          0.3855000138282776,
          0.3862859904766083,
          0.390267014503479,
          0.39487600326538086,
          0.38578200340270996,
          0.3961479961872101,
          0.39761999249458313,
          0.38088101148605347,
          0.35862600803375244,
          0.34160900115966797,
          0.30385300517082214,
          0.2951659858226776,
          0.3007110059261322,
          0.3084169924259186,
          0.3112199902534485,
          0.2905789911746979,
          0.2989470064640045,
          0.3142409920692444,
          0.32015201449394226,
          0.319597989320755,
          0.3221830129623413,
          0.33549100160598755,
          0.3556790053844452,
          0.358817994594574,
          0.3509730100631714,
          0.336914986371994,
          0.3234249949455261,
          0.307668000459671,
          0.3114500045776367,
          0.3105219900608063,
          0.31021401286125183,
          0.3155730068683624,
          0.31434598565101624,
          0.3206450045108795,
          0.32733801007270813,
          0.3370630145072937,
          0.34029901027679443,
          0.3221310079097748,
          0.3123059868812561,
          0.3090839982032776,
          0.3043299913406372,
          0.3133609890937805,
          0.3282319903373718,
          0.3321959972381592,
          0.34338700771331787,
          0.343423992395401,
          0.35291600227355957,
          0.3587360084056854,
          0.34972599148750305,
          0.3554860055446625,
          0.350847989320755,
          0.35708698630332947,
          0.3373129963874817,
          0.3264259994029999,
          0.331167995929718,
          0.35152798891067505,
          0.36081600189208984,
          0.36485999822616577,
          0.38022300601005554,
          0.3722749948501587,
          0.3683359920978546,
          0.3645409941673279,
          0.36539000272750854,
          0.3680360019207001,
          0.37157100439071655,
          0.3693099915981293,
          0.3720560073852539,
          0.36293599009513855,
          0.36007198691368103,
          0.3783949911594391,
          0.3714829981327057,
          0.37745198607444763,
          0.37588798999786377,
          0.36796098947525024,
          0.3680419921875,
          0.369841992855072,
          0.3709149956703186,
          0.33380600810050964,
          0.333622008562088,
          0.33649900555610657,
          0.33252400159835815,
          0.3339569866657257,
          0.3396340012550354,
          0.3442789912223816,
          0.33393898606300354,
          0.33042699098587036,
          0.3230940103530884,
          0.31939199566841125,
          0.3211050033569336,
          0.3248850107192993,
          0.32236799597740173,
          0.3263010084629059,
          0.3275910019874573,
          0.32894399762153625,
          0.3233659863471985,
          0.32107698917388916,
          0.31593799591064453,
          0.32937198877334595,
          0.3399989902973175,
          0.3530089855194092,
          0.35176101326942444,
          0.34926900267601013,
          0.33204400539398193,
          0.3324260115623474,
          0.3255999982357025,
          0.32354098558425903,
          0.34756898880004883,
          0.35811400413513184,
          0.3417620062828064,
          0.3724899888038635,
          0.3880090117454529,
          0.39478498697280884,
          0.4589180052280426,
          0.47401899099349976,
          0.47873398661613464,
          0.4598369896411896,
          0.440310001373291,
          0.4195629954338074,
          0.4285280108451843,
          0.47221800684928894,
          0.46960699558258057,
          0.44815799593925476,
          0.43954798579216003,
          0.45296698808670044,
          0.47340500354766846,
          0.48937198519706726,
          0.4842050075531006,
          0.5143830180168152,
          0.508167028427124,
          0.49701398611068726,
          0.4809100031852722,
          0.48375600576400757,
          0.4450240135192871,
          0.4793039858341217,
          0.4799799919128418,
          0.47181299328804016,
          0.4653330147266388,
          0.4598439931869507,
          0.450080007314682,
          0.4344260096549988,
          0.43780601024627686,
          0.4572870135307312,
          0.45343801379203796,
          0.4496909976005554,
          0.4453839957714081,
          0.45809200406074524,
          0.4609769880771637,
          0.4577850103378296,
          0.46769699454307556,
          0.4556420147418976,
          0.449523001909256,
          0.4552760124206543,
          0.44782400131225586,
          0.4500980079174042,
          0.4539969861507416,
          0.4921039938926697,
          0.47047901153564453,
          0.46215999126434326,
          0.362060010433197,
          0.32581499218940735,
          0.33121898770332336,
          0.3692919909954071,
          0.36141499876976013,
          0.3353370130062103,
          0.32395899295806885,
          0.36847200989723206,
          0.3648560047149658,
          0.37040600180625916,
          0.37602299451828003,
          0.37690600752830505,
          0.36104199290275574,
          0.3477970063686371,
          0.3524470031261444,
          0.36906999349594116,
          0.3754419982433319,
          0.39023301005363464,
          0.39508599042892456,
          0.39597100019454956,
          0.3755199909210205,
          0.38425499200820923,
          0.39517998695373535,
          0.39547500014305115,
          0.38550499081611633,
          0.3876110017299652,
          0.3875409960746765,
          0.383432000875473,
          0.3816789984703064,
          0.3765830099582672,
          0.3836050033569336,
          0.3862200081348419,
          0.3862070143222809,
          0.3805539906024933,
          0.3726949989795685,
          0.3792699873447418,
          0.3808630108833313,
          0.37537500262260437,
          0.34812599420547485,
          0.34883901476860046,
          0.34859201312065125,
          0.3343069851398468,
          0.3372589945793152,
          0.3397360146045685,
          0.3423739969730377,
          0.3477030098438263,
          0.3514989912509918,
          0.3447229862213135,
          0.34596899151802063,
          0.35944101214408875,
          0.3561359941959381,
          0.3389109969139099,
          0.335332989692688,
          0.3398680090904236
         ],
         "open": [
          0.8312810063362122,
          0.8494420051574707,
          0.8591070175170898,
          0.832850992679596,
          0.8247140049934387,
          0.7742999792098999,
          0.7812700271606445,
          0.7631059885025024,
          0.7477329969406128,
          0.7544280290603638,
          0.7393559813499451,
          0.7706080079078674,
          0.7994549870491028,
          0.7683579921722412,
          0.774308979511261,
          0.7813079953193665,
          0.7789989709854126,
          0.7627689838409424,
          0.7526140213012695,
          0.7397260069847107,
          0.7196090221405029,
          0.6360059976577759,
          0.5961930155754089,
          0.6287699937820435,
          0.6121439933776855,
          0.6175439953804016,
          0.6219450235366821,
          0.608618974685669,
          0.6124910116195679,
          0.6170060038566589,
          0.6030629873275757,
          0.6190059781074524,
          0.6292399764060974,
          0.6014149785041809,
          0.6076200008392334,
          0.655830979347229,
          0.6671270132064819,
          0.6835920214653015,
          0.8283770084381104,
          0.8775150179862976,
          0.8708760142326355,
          0.8299409747123718,
          0.7602499723434448,
          0.8222330212593079,
          0.8098729848861694,
          0.8022459745407104,
          0.8523769974708557,
          0.8387140035629272,
          0.7672860026359558,
          0.7858650088310242,
          0.8225380182266235,
          0.7781599760055542,
          0.7033330202102661,
          0.7228519916534424,
          0.6985800266265869,
          0.696258008480072,
          0.7686449885368347,
          0.7509660124778748,
          0.721930980682373,
          0.782069981098175,
          0.7848759889602661,
          0.7685319781303406,
          0.752295970916748,
          0.7127900123596191,
          0.7549229860305786,
          0.7260109782218933,
          0.7232310175895691,
          0.7210059762001038,
          0.7670270204544067,
          0.7375059723854065,
          0.8022289872169495,
          0.7865380048751831,
          0.7613760232925415,
          0.77463698387146,
          0.766746997833252,
          0.7934359908103943,
          0.7934510111808777,
          0.7981269955635071,
          0.8193789720535278,
          0.8059629797935486,
          0.838034987449646,
          0.8371340036392212,
          0.8378570079803467,
          0.8429679870605469,
          0.8251529932022095,
          0.8328149914741516,
          0.8574079871177673,
          0.8630890250205994,
          0.8579419851303101,
          0.8608800172805786,
          0.8147090077400208,
          0.8277350068092346,
          0.8248909711837769,
          0.8429229855537415,
          0.827226996421814,
          0.8176270127296448,
          0.7613610029220581,
          0.7879970073699951,
          0.7540410161018372,
          0.7636039853096008,
          0.7564219832420349,
          0.6951689720153809,
          0.7165120244026184,
          0.7237380146980286,
          0.7267959713935852,
          0.7856529951095581,
          0.7817919850349426,
          0.7531870007514954,
          0.7680420279502869,
          0.7750549912452698,
          0.7521770000457764,
          0.7331600189208984,
          0.7191439867019653,
          0.7074869871139526,
          0.698756992816925,
          0.6943339705467224,
          0.6417940258979797,
          0.6523129940032959,
          0.6442840099334717,
          0.6114050149917603,
          0.587086021900177,
          0.6078190207481384,
          0.61421799659729,
          0.6048039793968201,
          0.6464629769325256,
          0.5988320112228394,
          0.6025609970092773,
          0.5823990106582642,
          0.566519021987915,
          0.49243998527526855,
          0.5135430097579956,
          0.41339901089668274,
          0.38517799973487854,
          0.4234189987182617,
          0.42768698930740356,
          0.4474070072174072,
          0.4224570095539093,
          0.43763598799705505,
          0.4060620069503784,
          0.4199270009994507,
          0.4111280143260956,
          0.4146910011768341,
          0.42225998640060425,
          0.404680997133255,
          0.40869998931884766,
          0.405799001455307,
          0.39307600259780884,
          0.386586993932724,
          0.3863309919834137,
          0.3890190124511719,
          0.4181259870529175,
          0.4218890070915222,
          0.3980790078639984,
          0.40531501173973083,
          0.3907809853553772,
          0.3923240005970001,
          0.3954020142555237,
          0.40300899744033813,
          0.40769100189208984,
          0.4006580114364624,
          0.4003159999847412,
          0.3817639946937561,
          0.35909101366996765,
          0.34540900588035583,
          0.310820996761322,
          0.3220990002155304,
          0.34368398785591125,
          0.3121449947357178,
          0.3213309943675995,
          0.3080329895019531,
          0.3260200023651123,
          0.32328400015830994,
          0.3287290036678314,
          0.32259100675582886,
          0.3355090022087097,
          0.3676230013370514,
          0.36753299832344055,
          0.3588629961013794,
          0.35323500633239746,
          0.3373720049858093,
          0.3290019929409027,
          0.33164501190185547,
          0.31372401118278503,
          0.3155730068683624,
          0.3216879963874817,
          0.32870298624038696,
          0.3254599869251251,
          0.3322629928588867,
          0.3421669900417328,
          0.3415989875793457,
          0.3449299931526184,
          0.32565900683403015,
          0.31429600715637207,
          0.3116590082645416,
          0.32374998927116394,
          0.33321401476860046,
          0.3344930112361908,
          0.35085201263427734,
          0.343423992395401,
          0.36602500081062317,
          0.37325701117515564,
          0.3606620132923126,
          0.3670330047607422,
          0.3585219979286194,
          0.35953301191329956,
          0.3592270016670227,
          0.3373050093650818,
          0.3378260135650635,
          0.3591429889202118,
          0.37338700890541077,
          0.36866798996925354,
          0.3877750039100647,
          0.3803519904613495,
          0.37991100549697876,
          0.37203899025917053,
          0.36986199021339417,
          0.37127798795700073,
          0.37660500407218933,
          0.37159401178359985,
          0.3725149929523468,
          0.37877699732780457,
          0.3680799901485443,
          0.3810980021953583,
          0.3805379867553711,
          0.37997400760650635,
          0.3779990077018738,
          0.3764509856700897,
          0.3756659924983978,
          0.3772270083427429,
          0.37971100211143494,
          0.3709689974784851,
          0.3350200057029724,
          0.3374750018119812,
          0.3452819883823395,
          0.3447340130805969,
          0.3470740020275116,
          0.3461790084838867,
          0.3494639992713928,
          0.33843299746513367,
          0.33532899618148804,
          0.3230549991130829,
          0.3337790071964264,
          0.32688701152801514,
          0.3278670012950897,
          0.333173006772995,
          0.3312639892101288,
          0.3299590051174164,
          0.3317990005016327,
          0.33296799659729004,
          0.32215800881385803,
          0.3373369872570038,
          0.34022700786590576,
          0.35746800899505615,
          0.357683002948761,
          0.35514500737190247,
          0.35946398973464966,
          0.33296000957489014,
          0.342074990272522,
          0.3263840079307556,
          0.3566470146179199,
          0.37686800956726074,
          0.3583369851112366,
          0.3869580030441284,
          0.4151659905910492,
          0.39653798937797546,
          0.4851369857788086,
          0.5072000026702881,
          0.4887320101261139,
          0.49268099665641785,
          0.4677639901638031,
          0.448635995388031,
          0.4505940079689026,
          0.48543500900268555,
          0.4798220098018646,
          0.4751189947128296,
          0.4488680064678192,
          0.4628779888153076,
          0.480120986700058,
          0.48969900608062744,
          0.49327701330184937,
          0.5182250142097473,
          0.5171489715576172,
          0.5340290069580078,
          0.4966610074043274,
          0.4854130148887634,
          0.48835301399230957,
          0.48080599308013916,
          0.4889569878578186,
          0.48153001070022583,
          0.4770109951496124,
          0.4799180030822754,
          0.46598801016807556,
          0.4512229859828949,
          0.44800400733947754,
          0.4610869884490967,
          0.4654900133609772,
          0.4690369963645935,
          0.45380699634552,
          0.4614660143852234,
          0.4693950116634369,
          0.4624269902706146,
          0.4739840030670166,
          0.47040700912475586,
          0.45840099453926086,
          0.4658209979534149,
          0.4645250141620636,
          0.45088499784469604,
          0.45514100790023804,
          0.5044329762458801,
          0.49332499504089355,
          0.4706839919090271,
          0.46582499146461487,
          0.40625301003456116,
          0.33315300941467285,
          0.3956489861011505,
          0.3841800093650818,
          0.3636719882488251,
          0.34033000469207764,
          0.37634000182151794,
          0.38853201270103455,
          0.3762899935245514,
          0.38254299759864807,
          0.38305601477622986,
          0.38469699025154114,
          0.3619459867477417,
          0.3647240102291107,
          0.3760429918766022,
          0.3815790116786957,
          0.40198200941085815,
          0.4084100127220154,
          0.3966059982776642,
          0.3968009948730469,
          0.39027899503707886,
          0.3985530138015747,
          0.4087440073490143,
          0.3967140018939972,
          0.3962709903717041,
          0.38812199234962463,
          0.39064499735832214,
          0.38960000872612,
          0.3920910060405731,
          0.38371899724006653,
          0.39454999566078186,
          0.38916200399398804,
          0.3867120146751404,
          0.3817310035228729,
          0.3873859941959381,
          0.39510101079940796,
          0.3863869905471802,
          0.3782140016555786,
          0.35191500186920166,
          0.35481300950050354,
          0.35028499364852905,
          0.3389039933681488,
          0.3493320047855377,
          0.3459709882736206,
          0.3495909869670868,
          0.35427799820899963,
          0.35218799114227295,
          0.3463830053806305,
          0.3657279908657074,
          0.36812201142311096,
          0.3565239906311035,
          0.34283098578453064,
          0.3450320065021515
         ],
         "type": "candlestick",
         "x": [
          0,
          1,
          2,
          3,
          4,
          5,
          6,
          7,
          8,
          9,
          10,
          11,
          12,
          13,
          14,
          15,
          16,
          17,
          18,
          19,
          20,
          21,
          22,
          23,
          24,
          25,
          26,
          27,
          28,
          29,
          30,
          31,
          32,
          33,
          34,
          35,
          36,
          37,
          38,
          39,
          40,
          41,
          42,
          43,
          44,
          45,
          46,
          47,
          48,
          49,
          50,
          51,
          52,
          53,
          54,
          55,
          56,
          57,
          58,
          59,
          60,
          61,
          62,
          63,
          64,
          65,
          66,
          67,
          68,
          69,
          70,
          71,
          72,
          73,
          74,
          75,
          76,
          77,
          78,
          79,
          80,
          81,
          82,
          83,
          84,
          85,
          86,
          87,
          88,
          89,
          90,
          91,
          92,
          93,
          94,
          95,
          96,
          97,
          98,
          99,
          100,
          101,
          102,
          103,
          104,
          105,
          106,
          107,
          108,
          109,
          110,
          111,
          112,
          113,
          114,
          115,
          116,
          117,
          118,
          119,
          120,
          121,
          122,
          123,
          124,
          125,
          126,
          127,
          128,
          129,
          130,
          131,
          132,
          133,
          134,
          135,
          136,
          137,
          138,
          139,
          140,
          141,
          142,
          143,
          144,
          145,
          146,
          147,
          148,
          149,
          150,
          151,
          152,
          153,
          154,
          155,
          156,
          157,
          158,
          159,
          160,
          161,
          162,
          163,
          164,
          165,
          166,
          167,
          168,
          169,
          170,
          171,
          172,
          173,
          174,
          175,
          176,
          177,
          178,
          179,
          180,
          181,
          182,
          183,
          184,
          185,
          186,
          187,
          188,
          189,
          190,
          191,
          192,
          193,
          194,
          195,
          196,
          197,
          198,
          199,
          200,
          201,
          202,
          203,
          204,
          205,
          206,
          207,
          208,
          209,
          210,
          211,
          212,
          213,
          214,
          215,
          216,
          217,
          218,
          219,
          220,
          221,
          222,
          223,
          224,
          225,
          226,
          227,
          228,
          229,
          230,
          231,
          232,
          233,
          234,
          235,
          236,
          237,
          238,
          239,
          240,
          241,
          242,
          243,
          244,
          245,
          246,
          247,
          248,
          249,
          250,
          251,
          252,
          253,
          254,
          255,
          256,
          257,
          258,
          259,
          260,
          261,
          262,
          263,
          264,
          265,
          266,
          267,
          268,
          269,
          270,
          271,
          272,
          273,
          274,
          275,
          276,
          277,
          278,
          279,
          280,
          281,
          282,
          283,
          284,
          285,
          286,
          287,
          288,
          289,
          290,
          291,
          292,
          293,
          294,
          295,
          296,
          297,
          298,
          299,
          300,
          301,
          302,
          303,
          304,
          305,
          306,
          307,
          308,
          309,
          310,
          311,
          312,
          313,
          314,
          315,
          316,
          317,
          318,
          319,
          320,
          321,
          322,
          323,
          324,
          325,
          326,
          327,
          328,
          329,
          330,
          331,
          332,
          333,
          334,
          335,
          336,
          337,
          338,
          339,
          340,
          341,
          342,
          343,
          344,
          345,
          346,
          347,
          348,
          349,
          350,
          351,
          352,
          353,
          354,
          355,
          356,
          357,
          358,
          359,
          360,
          361,
          362,
          363,
          364
         ]
        }
       ],
       "layout": {
        "font": {
         "color": "RebeccaPurple",
         "family": "Courier New, monospace",
         "size": 12
        },
        "template": {
         "data": {
          "bar": [
           {
            "error_x": {
             "color": "#2a3f5f"
            },
            "error_y": {
             "color": "#2a3f5f"
            },
            "marker": {
             "line": {
              "color": "#E5ECF6",
              "width": 0.5
             },
             "pattern": {
              "fillmode": "overlay",
              "size": 10,
              "solidity": 0.2
             }
            },
            "type": "bar"
           }
          ],
          "barpolar": [
           {
            "marker": {
             "line": {
              "color": "#E5ECF6",
              "width": 0.5
             },
             "pattern": {
              "fillmode": "overlay",
              "size": 10,
              "solidity": 0.2
             }
            },
            "type": "barpolar"
           }
          ],
          "carpet": [
           {
            "aaxis": {
             "endlinecolor": "#2a3f5f",
             "gridcolor": "white",
             "linecolor": "white",
             "minorgridcolor": "white",
             "startlinecolor": "#2a3f5f"
            },
            "baxis": {
             "endlinecolor": "#2a3f5f",
             "gridcolor": "white",
             "linecolor": "white",
             "minorgridcolor": "white",
             "startlinecolor": "#2a3f5f"
            },
            "type": "carpet"
           }
          ],
          "choropleth": [
           {
            "colorbar": {
             "outlinewidth": 0,
             "ticks": ""
            },
            "type": "choropleth"
           }
          ],
          "contour": [
           {
            "colorbar": {
             "outlinewidth": 0,
             "ticks": ""
            },
            "colorscale": [
             [
              0,
              "#0d0887"
             ],
             [
              0.1111111111111111,
              "#46039f"
             ],
             [
              0.2222222222222222,
              "#7201a8"
             ],
             [
              0.3333333333333333,
              "#9c179e"
             ],
             [
              0.4444444444444444,
              "#bd3786"
             ],
             [
              0.5555555555555556,
              "#d8576b"
             ],
             [
              0.6666666666666666,
              "#ed7953"
             ],
             [
              0.7777777777777778,
              "#fb9f3a"
             ],
             [
              0.8888888888888888,
              "#fdca26"
             ],
             [
              1,
              "#f0f921"
             ]
            ],
            "type": "contour"
           }
          ],
          "contourcarpet": [
           {
            "colorbar": {
             "outlinewidth": 0,
             "ticks": ""
            },
            "type": "contourcarpet"
           }
          ],
          "heatmap": [
           {
            "colorbar": {
             "outlinewidth": 0,
             "ticks": ""
            },
            "colorscale": [
             [
              0,
              "#0d0887"
             ],
             [
              0.1111111111111111,
              "#46039f"
             ],
             [
              0.2222222222222222,
              "#7201a8"
             ],
             [
              0.3333333333333333,
              "#9c179e"
             ],
             [
              0.4444444444444444,
              "#bd3786"
             ],
             [
              0.5555555555555556,
              "#d8576b"
             ],
             [
              0.6666666666666666,
              "#ed7953"
             ],
             [
              0.7777777777777778,
              "#fb9f3a"
             ],
             [
              0.8888888888888888,
              "#fdca26"
             ],
             [
              1,
              "#f0f921"
             ]
            ],
            "type": "heatmap"
           }
          ],
          "heatmapgl": [
           {
            "colorbar": {
             "outlinewidth": 0,
             "ticks": ""
            },
            "colorscale": [
             [
              0,
              "#0d0887"
             ],
             [
              0.1111111111111111,
              "#46039f"
             ],
             [
              0.2222222222222222,
              "#7201a8"
             ],
             [
              0.3333333333333333,
              "#9c179e"
             ],
             [
              0.4444444444444444,
              "#bd3786"
             ],
             [
              0.5555555555555556,
              "#d8576b"
             ],
             [
              0.6666666666666666,
              "#ed7953"
             ],
             [
              0.7777777777777778,
              "#fb9f3a"
             ],
             [
              0.8888888888888888,
              "#fdca26"
             ],
             [
              1,
              "#f0f921"
             ]
            ],
            "type": "heatmapgl"
           }
          ],
          "histogram": [
           {
            "marker": {
             "pattern": {
              "fillmode": "overlay",
              "size": 10,
              "solidity": 0.2
             }
            },
            "type": "histogram"
           }
          ],
          "histogram2d": [
           {
            "colorbar": {
             "outlinewidth": 0,
             "ticks": ""
            },
            "colorscale": [
             [
              0,
              "#0d0887"
             ],
             [
              0.1111111111111111,
              "#46039f"
             ],
             [
              0.2222222222222222,
              "#7201a8"
             ],
             [
              0.3333333333333333,
              "#9c179e"
             ],
             [
              0.4444444444444444,
              "#bd3786"
             ],
             [
              0.5555555555555556,
              "#d8576b"
             ],
             [
              0.6666666666666666,
              "#ed7953"
             ],
             [
              0.7777777777777778,
              "#fb9f3a"
             ],
             [
              0.8888888888888888,
              "#fdca26"
             ],
             [
              1,
              "#f0f921"
             ]
            ],
            "type": "histogram2d"
           }
          ],
          "histogram2dcontour": [
           {
            "colorbar": {
             "outlinewidth": 0,
             "ticks": ""
            },
            "colorscale": [
             [
              0,
              "#0d0887"
             ],
             [
              0.1111111111111111,
              "#46039f"
             ],
             [
              0.2222222222222222,
              "#7201a8"
             ],
             [
              0.3333333333333333,
              "#9c179e"
             ],
             [
              0.4444444444444444,
              "#bd3786"
             ],
             [
              0.5555555555555556,
              "#d8576b"
             ],
             [
              0.6666666666666666,
              "#ed7953"
             ],
             [
              0.7777777777777778,
              "#fb9f3a"
             ],
             [
              0.8888888888888888,
              "#fdca26"
             ],
             [
              1,
              "#f0f921"
             ]
            ],
            "type": "histogram2dcontour"
           }
          ],
          "mesh3d": [
           {
            "colorbar": {
             "outlinewidth": 0,
             "ticks": ""
            },
            "type": "mesh3d"
           }
          ],
          "parcoords": [
           {
            "line": {
             "colorbar": {
              "outlinewidth": 0,
              "ticks": ""
             }
            },
            "type": "parcoords"
           }
          ],
          "pie": [
           {
            "automargin": true,
            "type": "pie"
           }
          ],
          "scatter": [
           {
            "fillpattern": {
             "fillmode": "overlay",
             "size": 10,
             "solidity": 0.2
            },
            "type": "scatter"
           }
          ],
          "scatter3d": [
           {
            "line": {
             "colorbar": {
              "outlinewidth": 0,
              "ticks": ""
             }
            },
            "marker": {
             "colorbar": {
              "outlinewidth": 0,
              "ticks": ""
             }
            },
            "type": "scatter3d"
           }
          ],
          "scattercarpet": [
           {
            "marker": {
             "colorbar": {
              "outlinewidth": 0,
              "ticks": ""
             }
            },
            "type": "scattercarpet"
           }
          ],
          "scattergeo": [
           {
            "marker": {
             "colorbar": {
              "outlinewidth": 0,
              "ticks": ""
             }
            },
            "type": "scattergeo"
           }
          ],
          "scattergl": [
           {
            "marker": {
             "colorbar": {
              "outlinewidth": 0,
              "ticks": ""
             }
            },
            "type": "scattergl"
           }
          ],
          "scattermapbox": [
           {
            "marker": {
             "colorbar": {
              "outlinewidth": 0,
              "ticks": ""
             }
            },
            "type": "scattermapbox"
           }
          ],
          "scatterpolar": [
           {
            "marker": {
             "colorbar": {
              "outlinewidth": 0,
              "ticks": ""
             }
            },
            "type": "scatterpolar"
           }
          ],
          "scatterpolargl": [
           {
            "marker": {
             "colorbar": {
              "outlinewidth": 0,
              "ticks": ""
             }
            },
            "type": "scatterpolargl"
           }
          ],
          "scatterternary": [
           {
            "marker": {
             "colorbar": {
              "outlinewidth": 0,
              "ticks": ""
             }
            },
            "type": "scatterternary"
           }
          ],
          "surface": [
           {
            "colorbar": {
             "outlinewidth": 0,
             "ticks": ""
            },
            "colorscale": [
             [
              0,
              "#0d0887"
             ],
             [
              0.1111111111111111,
              "#46039f"
             ],
             [
              0.2222222222222222,
              "#7201a8"
             ],
             [
              0.3333333333333333,
              "#9c179e"
             ],
             [
              0.4444444444444444,
              "#bd3786"
             ],
             [
              0.5555555555555556,
              "#d8576b"
             ],
             [
              0.6666666666666666,
              "#ed7953"
             ],
             [
              0.7777777777777778,
              "#fb9f3a"
             ],
             [
              0.8888888888888888,
              "#fdca26"
             ],
             [
              1,
              "#f0f921"
             ]
            ],
            "type": "surface"
           }
          ],
          "table": [
           {
            "cells": {
             "fill": {
              "color": "#EBF0F8"
             },
             "line": {
              "color": "white"
             }
            },
            "header": {
             "fill": {
              "color": "#C8D4E3"
             },
             "line": {
              "color": "white"
             }
            },
            "type": "table"
           }
          ]
         },
         "layout": {
          "annotationdefaults": {
           "arrowcolor": "#2a3f5f",
           "arrowhead": 0,
           "arrowwidth": 1
          },
          "autotypenumbers": "strict",
          "coloraxis": {
           "colorbar": {
            "outlinewidth": 0,
            "ticks": ""
           }
          },
          "colorscale": {
           "diverging": [
            [
             0,
             "#8e0152"
            ],
            [
             0.1,
             "#c51b7d"
            ],
            [
             0.2,
             "#de77ae"
            ],
            [
             0.3,
             "#f1b6da"
            ],
            [
             0.4,
             "#fde0ef"
            ],
            [
             0.5,
             "#f7f7f7"
            ],
            [
             0.6,
             "#e6f5d0"
            ],
            [
             0.7,
             "#b8e186"
            ],
            [
             0.8,
             "#7fbc41"
            ],
            [
             0.9,
             "#4d9221"
            ],
            [
             1,
             "#276419"
            ]
           ],
           "sequential": [
            [
             0,
             "#0d0887"
            ],
            [
             0.1111111111111111,
             "#46039f"
            ],
            [
             0.2222222222222222,
             "#7201a8"
            ],
            [
             0.3333333333333333,
             "#9c179e"
            ],
            [
             0.4444444444444444,
             "#bd3786"
            ],
            [
             0.5555555555555556,
             "#d8576b"
            ],
            [
             0.6666666666666666,
             "#ed7953"
            ],
            [
             0.7777777777777778,
             "#fb9f3a"
            ],
            [
             0.8888888888888888,
             "#fdca26"
            ],
            [
             1,
             "#f0f921"
            ]
           ],
           "sequentialminus": [
            [
             0,
             "#0d0887"
            ],
            [
             0.1111111111111111,
             "#46039f"
            ],
            [
             0.2222222222222222,
             "#7201a8"
            ],
            [
             0.3333333333333333,
             "#9c179e"
            ],
            [
             0.4444444444444444,
             "#bd3786"
            ],
            [
             0.5555555555555556,
             "#d8576b"
            ],
            [
             0.6666666666666666,
             "#ed7953"
            ],
            [
             0.7777777777777778,
             "#fb9f3a"
            ],
            [
             0.8888888888888888,
             "#fdca26"
            ],
            [
             1,
             "#f0f921"
            ]
           ]
          },
          "colorway": [
           "#636efa",
           "#EF553B",
           "#00cc96",
           "#ab63fa",
           "#FFA15A",
           "#19d3f3",
           "#FF6692",
           "#B6E880",
           "#FF97FF",
           "#FECB52"
          ],
          "font": {
           "color": "#2a3f5f"
          },
          "geo": {
           "bgcolor": "white",
           "lakecolor": "white",
           "landcolor": "#E5ECF6",
           "showlakes": true,
           "showland": true,
           "subunitcolor": "white"
          },
          "hoverlabel": {
           "align": "left"
          },
          "hovermode": "closest",
          "mapbox": {
           "style": "light"
          },
          "paper_bgcolor": "white",
          "plot_bgcolor": "#E5ECF6",
          "polar": {
           "angularaxis": {
            "gridcolor": "white",
            "linecolor": "white",
            "ticks": ""
           },
           "bgcolor": "#E5ECF6",
           "radialaxis": {
            "gridcolor": "white",
            "linecolor": "white",
            "ticks": ""
           }
          },
          "scene": {
           "xaxis": {
            "backgroundcolor": "#E5ECF6",
            "gridcolor": "white",
            "gridwidth": 2,
            "linecolor": "white",
            "showbackground": true,
            "ticks": "",
            "zerolinecolor": "white"
           },
           "yaxis": {
            "backgroundcolor": "#E5ECF6",
            "gridcolor": "white",
            "gridwidth": 2,
            "linecolor": "white",
            "showbackground": true,
            "ticks": "",
            "zerolinecolor": "white"
           },
           "zaxis": {
            "backgroundcolor": "#E5ECF6",
            "gridcolor": "white",
            "gridwidth": 2,
            "linecolor": "white",
            "showbackground": true,
            "ticks": "",
            "zerolinecolor": "white"
           }
          },
          "shapedefaults": {
           "line": {
            "color": "#2a3f5f"
           }
          },
          "ternary": {
           "aaxis": {
            "gridcolor": "white",
            "linecolor": "white",
            "ticks": ""
           },
           "baxis": {
            "gridcolor": "white",
            "linecolor": "white",
            "ticks": ""
           },
           "bgcolor": "#E5ECF6",
           "caxis": {
            "gridcolor": "white",
            "linecolor": "white",
            "ticks": ""
           }
          },
          "title": {
           "x": 0.05
          },
          "xaxis": {
           "automargin": true,
           "gridcolor": "white",
           "linecolor": "white",
           "ticks": "",
           "title": {
            "standoff": 15
           },
           "zerolinecolor": "white",
           "zerolinewidth": 2
          },
          "yaxis": {
           "automargin": true,
           "gridcolor": "white",
           "linecolor": "white",
           "ticks": "",
           "title": {
            "standoff": 15
           },
           "zerolinecolor": "white",
           "zerolinewidth": 2
          }
         }
        },
        "title": {
         "text": "XRP"
        },
        "xaxis": {
         "rangeslider": {
          "visible": false
         },
         "title": {
          "text": "Date"
         }
        },
        "yaxis": {
         "title": {
          "text": "XRP-USD"
         }
        }
       }
      }
     },
     "metadata": {},
     "output_type": "display_data"
    }
   ],
   "source": [
    "import plotly.graph_objects as go\n",
    "\n",
    "fig = go.Figure(data=[go.Candlestick(x=data.index,  # Usar el índice de fechas como eje x\n",
    "                                     open=data['Open'], \n",
    "                                     high=data['High'],\n",
    "                                     low=data['Low'], \n",
    "                                     close=data['Close']\n",
    "                                    )\n",
    "                     ])\n",
    "fig.update_layout(\n",
    "    title=\"XRP\",\n",
    "    xaxis_title=\"Date\",  # Cambiar el título del eje x para reflejar que es una fecha\n",
    "    yaxis_title=\"XRP-USD\",\n",
    "    font=dict(\n",
    "        family=\"Courier New, monospace\",\n",
    "        size=12,\n",
    "        color=\"RebeccaPurple\"\n",
    "    )\n",
    ")\n",
    "fig.update_layout(xaxis_rangeslider_visible=False)  # Ocultar el control deslizante de rango\n",
    "fig.show()  # Mostrar el gráfico\n"
   ]
  },
  {
   "cell_type": "code",
   "execution_count": 56,
   "metadata": {},
   "outputs": [
    {
     "name": "stdout",
     "output_type": "stream",
     "text": [
      "train: (337,)\n",
      "test_4w: (28,)\n"
     ]
    },
    {
     "data": {
      "text/html": [
       "<div>\n",
       "<style scoped>\n",
       "    .dataframe tbody tr th:only-of-type {\n",
       "        vertical-align: middle;\n",
       "    }\n",
       "\n",
       "    .dataframe tbody tr th {\n",
       "        vertical-align: top;\n",
       "    }\n",
       "\n",
       "    .dataframe thead th {\n",
       "        text-align: right;\n",
       "    }\n",
       "</style>\n",
       "<table border=\"1\" class=\"dataframe\">\n",
       "  <thead>\n",
       "    <tr style=\"text-align: right;\">\n",
       "      <th></th>\n",
       "      <th>Close</th>\n",
       "    </tr>\n",
       "  </thead>\n",
       "  <tbody>\n",
       "    <tr>\n",
       "      <th>337</th>\n",
       "      <td>0.390735</td>\n",
       "    </tr>\n",
       "    <tr>\n",
       "      <th>338</th>\n",
       "      <td>0.389584</td>\n",
       "    </tr>\n",
       "    <tr>\n",
       "      <th>339</th>\n",
       "      <td>0.392094</td>\n",
       "    </tr>\n",
       "    <tr>\n",
       "      <th>340</th>\n",
       "      <td>0.383721</td>\n",
       "    </tr>\n",
       "    <tr>\n",
       "      <th>341</th>\n",
       "      <td>0.394545</td>\n",
       "    </tr>\n",
       "  </tbody>\n",
       "</table>\n",
       "</div>"
      ],
      "text/plain": [
       "        Close\n",
       "337  0.390735\n",
       "338  0.389584\n",
       "339  0.392094\n",
       "340  0.383721\n",
       "341  0.394545"
      ]
     },
     "execution_count": 56,
     "metadata": {},
     "output_type": "execute_result"
    }
   ],
   "source": [
    "n_AAPL = len(data.Close)  # Cambié 'close' por 'Close' \n",
    "n_test = 28  # Esto puede ser cambiado\n",
    "train_size = n_AAPL - n_test\n",
    "\n",
    "# Dividiendo los datos en conjunto de entrenamiento y prueba\n",
    "train = data.Close[:train_size]  # Cambié 'AAPL_df' por 'data' y 'close' por 'Close'\n",
    "dates_train = data.Date[:train_size]  # Cambié 'AAPL_df' por 'data'\n",
    "test_4w = data.Close[train_size:train_size + n_test]  # Cambié 'AAPL_df' por 'data' y 'close' por 'Close'\n",
    "dates_4w = data.Date[train_size:train_size + n_test]  # Cambié 'AAPL_df' por 'data'\n",
    "\n",
    "# Imprimiendo las dimensiones de los conjuntos de entrenamiento y prueba\n",
    "print(\"train:\", train.shape)\n",
    "print(\"test_4w:\", test_4w.shape)\n",
    "\n",
    "# Creación de los DataFrames de entrenamiento y prueba\n",
    "train_df = data[[\"Close\"]][:train_size]  # Cambié 'AAPL_df' por 'data' y 'close' por 'Close'\n",
    "test_data = data[[\"Close\"]][train_size:train_size + n_test]  # Cambié 'AAPL_df' por 'data' y 'close' por 'Close'\n",
    "\n",
    "# Mostrar los primeros registros del conjunto de prueba\n",
    "test_data.head()  # Corregí 'test_fata.head()' por 'test_data.head()'\n"
   ]
  },
  {
   "cell_type": "code",
   "execution_count": 59,
   "metadata": {},
   "outputs": [
    {
     "name": "stderr",
     "output_type": "stream",
     "text": [
      "c:\\Users\\EMANUEL\\miniconda3\\envs\\Eda\\lib\\site-packages\\statsmodels\\tsa\\statespace\\sarimax.py:978: UserWarning:\n",
      "\n",
      "Non-invertible starting MA parameters found. Using zeros as starting parameters.\n",
      "\n",
      "c:\\Users\\EMANUEL\\miniconda3\\envs\\Eda\\lib\\site-packages\\statsmodels\\tsa\\statespace\\sarimax.py:978: UserWarning:\n",
      "\n",
      "Non-invertible starting MA parameters found. Using zeros as starting parameters.\n",
      "\n",
      "c:\\Users\\EMANUEL\\miniconda3\\envs\\Eda\\lib\\site-packages\\statsmodels\\base\\model.py:607: ConvergenceWarning:\n",
      "\n",
      "Maximum Likelihood optimization failed to converge. Check mle_retvals\n",
      "\n",
      "c:\\Users\\EMANUEL\\miniconda3\\envs\\Eda\\lib\\site-packages\\statsmodels\\tsa\\statespace\\sarimax.py:978: UserWarning:\n",
      "\n",
      "Non-invertible starting MA parameters found. Using zeros as starting parameters.\n",
      "\n",
      "c:\\Users\\EMANUEL\\miniconda3\\envs\\Eda\\lib\\site-packages\\statsmodels\\base\\model.py:607: ConvergenceWarning:\n",
      "\n",
      "Maximum Likelihood optimization failed to converge. Check mle_retvals\n",
      "\n",
      "c:\\Users\\EMANUEL\\miniconda3\\envs\\Eda\\lib\\site-packages\\statsmodels\\base\\model.py:607: ConvergenceWarning:\n",
      "\n",
      "Maximum Likelihood optimization failed to converge. Check mle_retvals\n",
      "\n",
      "c:\\Users\\EMANUEL\\miniconda3\\envs\\Eda\\lib\\site-packages\\statsmodels\\base\\model.py:607: ConvergenceWarning:\n",
      "\n",
      "Maximum Likelihood optimization failed to converge. Check mle_retvals\n",
      "\n",
      "c:\\Users\\EMANUEL\\miniconda3\\envs\\Eda\\lib\\site-packages\\statsmodels\\base\\model.py:607: ConvergenceWarning:\n",
      "\n",
      "Maximum Likelihood optimization failed to converge. Check mle_retvals\n",
      "\n",
      "c:\\Users\\EMANUEL\\miniconda3\\envs\\Eda\\lib\\site-packages\\statsmodels\\base\\model.py:607: ConvergenceWarning:\n",
      "\n",
      "Maximum Likelihood optimization failed to converge. Check mle_retvals\n",
      "\n",
      "c:\\Users\\EMANUEL\\miniconda3\\envs\\Eda\\lib\\site-packages\\statsmodels\\tsa\\statespace\\sarimax.py:966: UserWarning:\n",
      "\n",
      "Non-stationary starting autoregressive parameters found. Using zeros as starting parameters.\n",
      "\n",
      "c:\\Users\\EMANUEL\\miniconda3\\envs\\Eda\\lib\\site-packages\\statsmodels\\tsa\\statespace\\sarimax.py:978: UserWarning:\n",
      "\n",
      "Non-invertible starting MA parameters found. Using zeros as starting parameters.\n",
      "\n",
      "c:\\Users\\EMANUEL\\miniconda3\\envs\\Eda\\lib\\site-packages\\statsmodels\\base\\model.py:607: ConvergenceWarning:\n",
      "\n",
      "Maximum Likelihood optimization failed to converge. Check mle_retvals\n",
      "\n",
      "c:\\Users\\EMANUEL\\miniconda3\\envs\\Eda\\lib\\site-packages\\statsmodels\\base\\model.py:607: ConvergenceWarning:\n",
      "\n",
      "Maximum Likelihood optimization failed to converge. Check mle_retvals\n",
      "\n",
      "c:\\Users\\EMANUEL\\miniconda3\\envs\\Eda\\lib\\site-packages\\statsmodels\\base\\model.py:607: ConvergenceWarning:\n",
      "\n",
      "Maximum Likelihood optimization failed to converge. Check mle_retvals\n",
      "\n",
      "c:\\Users\\EMANUEL\\miniconda3\\envs\\Eda\\lib\\site-packages\\statsmodels\\tsa\\statespace\\sarimax.py:966: UserWarning:\n",
      "\n",
      "Non-stationary starting autoregressive parameters found. Using zeros as starting parameters.\n",
      "\n",
      "c:\\Users\\EMANUEL\\miniconda3\\envs\\Eda\\lib\\site-packages\\statsmodels\\tsa\\statespace\\sarimax.py:978: UserWarning:\n",
      "\n",
      "Non-invertible starting MA parameters found. Using zeros as starting parameters.\n",
      "\n",
      "c:\\Users\\EMANUEL\\miniconda3\\envs\\Eda\\lib\\site-packages\\statsmodels\\tsa\\statespace\\sarimax.py:966: UserWarning:\n",
      "\n",
      "Non-stationary starting autoregressive parameters found. Using zeros as starting parameters.\n",
      "\n",
      "c:\\Users\\EMANUEL\\miniconda3\\envs\\Eda\\lib\\site-packages\\statsmodels\\tsa\\statespace\\sarimax.py:978: UserWarning:\n",
      "\n",
      "Non-invertible starting MA parameters found. Using zeros as starting parameters.\n",
      "\n",
      "c:\\Users\\EMANUEL\\miniconda3\\envs\\Eda\\lib\\site-packages\\statsmodels\\base\\model.py:607: ConvergenceWarning:\n",
      "\n",
      "Maximum Likelihood optimization failed to converge. Check mle_retvals\n",
      "\n",
      "c:\\Users\\EMANUEL\\miniconda3\\envs\\Eda\\lib\\site-packages\\statsmodels\\base\\model.py:607: ConvergenceWarning:\n",
      "\n",
      "Maximum Likelihood optimization failed to converge. Check mle_retvals\n",
      "\n",
      "c:\\Users\\EMANUEL\\miniconda3\\envs\\Eda\\lib\\site-packages\\statsmodels\\base\\model.py:607: ConvergenceWarning:\n",
      "\n",
      "Maximum Likelihood optimization failed to converge. Check mle_retvals\n",
      "\n",
      "c:\\Users\\EMANUEL\\miniconda3\\envs\\Eda\\lib\\site-packages\\statsmodels\\base\\model.py:607: ConvergenceWarning:\n",
      "\n",
      "Maximum Likelihood optimization failed to converge. Check mle_retvals\n",
      "\n",
      "c:\\Users\\EMANUEL\\miniconda3\\envs\\Eda\\lib\\site-packages\\statsmodels\\base\\model.py:607: ConvergenceWarning:\n",
      "\n",
      "Maximum Likelihood optimization failed to converge. Check mle_retvals\n",
      "\n",
      "c:\\Users\\EMANUEL\\miniconda3\\envs\\Eda\\lib\\site-packages\\statsmodels\\base\\model.py:607: ConvergenceWarning:\n",
      "\n",
      "Maximum Likelihood optimization failed to converge. Check mle_retvals\n",
      "\n",
      "c:\\Users\\EMANUEL\\miniconda3\\envs\\Eda\\lib\\site-packages\\statsmodels\\base\\model.py:607: ConvergenceWarning:\n",
      "\n",
      "Maximum Likelihood optimization failed to converge. Check mle_retvals\n",
      "\n",
      "c:\\Users\\EMANUEL\\miniconda3\\envs\\Eda\\lib\\site-packages\\statsmodels\\tsa\\statespace\\sarimax.py:966: UserWarning:\n",
      "\n",
      "Non-stationary starting autoregressive parameters found. Using zeros as starting parameters.\n",
      "\n",
      "c:\\Users\\EMANUEL\\miniconda3\\envs\\Eda\\lib\\site-packages\\statsmodels\\base\\model.py:607: ConvergenceWarning:\n",
      "\n",
      "Maximum Likelihood optimization failed to converge. Check mle_retvals\n",
      "\n",
      "c:\\Users\\EMANUEL\\miniconda3\\envs\\Eda\\lib\\site-packages\\statsmodels\\base\\model.py:607: ConvergenceWarning:\n",
      "\n",
      "Maximum Likelihood optimization failed to converge. Check mle_retvals\n",
      "\n",
      "c:\\Users\\EMANUEL\\miniconda3\\envs\\Eda\\lib\\site-packages\\statsmodels\\base\\model.py:607: ConvergenceWarning:\n",
      "\n",
      "Maximum Likelihood optimization failed to converge. Check mle_retvals\n",
      "\n",
      "c:\\Users\\EMANUEL\\miniconda3\\envs\\Eda\\lib\\site-packages\\statsmodels\\base\\model.py:607: ConvergenceWarning:\n",
      "\n",
      "Maximum Likelihood optimization failed to converge. Check mle_retvals\n",
      "\n",
      "c:\\Users\\EMANUEL\\miniconda3\\envs\\Eda\\lib\\site-packages\\statsmodels\\base\\model.py:607: ConvergenceWarning:\n",
      "\n",
      "Maximum Likelihood optimization failed to converge. Check mle_retvals\n",
      "\n",
      "c:\\Users\\EMANUEL\\miniconda3\\envs\\Eda\\lib\\site-packages\\statsmodels\\base\\model.py:607: ConvergenceWarning:\n",
      "\n",
      "Maximum Likelihood optimization failed to converge. Check mle_retvals\n",
      "\n",
      "c:\\Users\\EMANUEL\\miniconda3\\envs\\Eda\\lib\\site-packages\\statsmodels\\base\\model.py:607: ConvergenceWarning:\n",
      "\n",
      "Maximum Likelihood optimization failed to converge. Check mle_retvals\n",
      "\n",
      "c:\\Users\\EMANUEL\\miniconda3\\envs\\Eda\\lib\\site-packages\\statsmodels\\base\\model.py:607: ConvergenceWarning:\n",
      "\n",
      "Maximum Likelihood optimization failed to converge. Check mle_retvals\n",
      "\n",
      "c:\\Users\\EMANUEL\\miniconda3\\envs\\Eda\\lib\\site-packages\\statsmodels\\base\\model.py:607: ConvergenceWarning:\n",
      "\n",
      "Maximum Likelihood optimization failed to converge. Check mle_retvals\n",
      "\n",
      "c:\\Users\\EMANUEL\\miniconda3\\envs\\Eda\\lib\\site-packages\\statsmodels\\tsa\\statespace\\sarimax.py:966: UserWarning:\n",
      "\n",
      "Non-stationary starting autoregressive parameters found. Using zeros as starting parameters.\n",
      "\n",
      "c:\\Users\\EMANUEL\\miniconda3\\envs\\Eda\\lib\\site-packages\\statsmodels\\base\\model.py:607: ConvergenceWarning:\n",
      "\n",
      "Maximum Likelihood optimization failed to converge. Check mle_retvals\n",
      "\n",
      "c:\\Users\\EMANUEL\\miniconda3\\envs\\Eda\\lib\\site-packages\\statsmodels\\base\\model.py:607: ConvergenceWarning:\n",
      "\n",
      "Maximum Likelihood optimization failed to converge. Check mle_retvals\n",
      "\n",
      "c:\\Users\\EMANUEL\\miniconda3\\envs\\Eda\\lib\\site-packages\\statsmodels\\tsa\\statespace\\sarimax.py:966: UserWarning:\n",
      "\n",
      "Non-stationary starting autoregressive parameters found. Using zeros as starting parameters.\n",
      "\n",
      "c:\\Users\\EMANUEL\\miniconda3\\envs\\Eda\\lib\\site-packages\\statsmodels\\tsa\\statespace\\sarimax.py:978: UserWarning:\n",
      "\n",
      "Non-invertible starting MA parameters found. Using zeros as starting parameters.\n",
      "\n",
      "c:\\Users\\EMANUEL\\miniconda3\\envs\\Eda\\lib\\site-packages\\statsmodels\\base\\model.py:607: ConvergenceWarning:\n",
      "\n",
      "Maximum Likelihood optimization failed to converge. Check mle_retvals\n",
      "\n",
      "c:\\Users\\EMANUEL\\miniconda3\\envs\\Eda\\lib\\site-packages\\statsmodels\\base\\model.py:607: ConvergenceWarning:\n",
      "\n",
      "Maximum Likelihood optimization failed to converge. Check mle_retvals\n",
      "\n",
      "c:\\Users\\EMANUEL\\miniconda3\\envs\\Eda\\lib\\site-packages\\statsmodels\\tsa\\statespace\\sarimax.py:966: UserWarning:\n",
      "\n",
      "Non-stationary starting autoregressive parameters found. Using zeros as starting parameters.\n",
      "\n",
      "c:\\Users\\EMANUEL\\miniconda3\\envs\\Eda\\lib\\site-packages\\statsmodels\\tsa\\statespace\\sarimax.py:978: UserWarning:\n",
      "\n",
      "Non-invertible starting MA parameters found. Using zeros as starting parameters.\n",
      "\n",
      "c:\\Users\\EMANUEL\\miniconda3\\envs\\Eda\\lib\\site-packages\\statsmodels\\base\\model.py:607: ConvergenceWarning:\n",
      "\n",
      "Maximum Likelihood optimization failed to converge. Check mle_retvals\n",
      "\n",
      "c:\\Users\\EMANUEL\\miniconda3\\envs\\Eda\\lib\\site-packages\\statsmodels\\base\\model.py:607: ConvergenceWarning:\n",
      "\n",
      "Maximum Likelihood optimization failed to converge. Check mle_retvals\n",
      "\n",
      "c:\\Users\\EMANUEL\\miniconda3\\envs\\Eda\\lib\\site-packages\\statsmodels\\tsa\\statespace\\sarimax.py:966: UserWarning:\n",
      "\n",
      "Non-stationary starting autoregressive parameters found. Using zeros as starting parameters.\n",
      "\n",
      "c:\\Users\\EMANUEL\\miniconda3\\envs\\Eda\\lib\\site-packages\\statsmodels\\tsa\\statespace\\sarimax.py:978: UserWarning:\n",
      "\n",
      "Non-invertible starting MA parameters found. Using zeros as starting parameters.\n",
      "\n",
      "c:\\Users\\EMANUEL\\miniconda3\\envs\\Eda\\lib\\site-packages\\statsmodels\\base\\model.py:607: ConvergenceWarning:\n",
      "\n",
      "Maximum Likelihood optimization failed to converge. Check mle_retvals\n",
      "\n"
     ]
    }
   ],
   "source": [
    "best_aic = np.inf\n",
    "best_bic = np.inf\n",
    "\n",
    "best_order = None\n",
    "best_mdl = None\n",
    "\n",
    "pq_rng = range(5)\n",
    "d_rng  = range(3)\n",
    "\n",
    "for i in pq_rng:\n",
    "    for d in d_rng:\n",
    "        for j in pq_rng:\n",
    "            try:\n",
    "                # print(i, d, j)\n",
    "                tmp_mdl = ARIMA(train, order=(i,d,j)).fit()\n",
    "                tmp_aic = tmp_mdl.aic\n",
    "                if tmp_aic < best_aic:\n",
    "                    best_aic = tmp_aic\n",
    "                    best_order = (i, d, j)\n",
    "                    best_mdl = tmp_mdl\n",
    "            except: continue"
   ]
  },
  {
   "cell_type": "code",
   "execution_count": 60,
   "metadata": {},
   "outputs": [
    {
     "name": "stdout",
     "output_type": "stream",
     "text": [
      "aic: -1533.89413 | order: (2, 1, 2)\n"
     ]
    }
   ],
   "source": [
    "print('aic: {:6.5f} | order: {}'.format(best_aic, best_order))"
   ]
  },
  {
   "cell_type": "code",
   "execution_count": 61,
   "metadata": {},
   "outputs": [
    {
     "name": "stderr",
     "output_type": "stream",
     "text": [
      "c:\\Users\\EMANUEL\\miniconda3\\envs\\Eda\\lib\\site-packages\\statsmodels\\tsa\\statespace\\sarimax.py:966: UserWarning:\n",
      "\n",
      "Non-stationary starting autoregressive parameters found. Using zeros as starting parameters.\n",
      "\n",
      "c:\\Users\\EMANUEL\\miniconda3\\envs\\Eda\\lib\\site-packages\\statsmodels\\tsa\\statespace\\sarimax.py:978: UserWarning:\n",
      "\n",
      "Non-invertible starting MA parameters found. Using zeros as starting parameters.\n",
      "\n",
      "c:\\Users\\EMANUEL\\miniconda3\\envs\\Eda\\lib\\site-packages\\statsmodels\\base\\model.py:607: ConvergenceWarning:\n",
      "\n",
      "Maximum Likelihood optimization failed to converge. Check mle_retvals\n",
      "\n"
     ]
    }
   ],
   "source": [
    "model = ARIMA(train, order=best_order)\n",
    "model_fit = model.fit()"
   ]
  },
  {
   "cell_type": "code",
   "execution_count": 63,
   "metadata": {},
   "outputs": [
    {
     "data": {
      "image/png": "[encoded data removed]",
      "text/plain": [
       "<Figure size 1000x600 with 1 Axes>"
      ]
     },
     "metadata": {},
     "output_type": "display_data"
    }
   ],
   "source": [
    "from statsmodels.graphics.tsaplots import plot_predict\n",
    "plt.rcParams.update({'figure.figsize': (10,6)})\n",
    "fig, ax = plt.subplots();\n",
    "plot_predict(model_fit, 2, ax=ax);\n",
    "plt.show();"
   ]
  },
  {
   "cell_type": "code",
   "execution_count": 64,
   "metadata": {},
   "outputs": [],
   "source": [
    "def forecast_accuracy(forecast, actual, str_name):\n",
    "    \n",
    "    mape = np.mean(np.abs(forecast - actual)/np.abs(actual)) # MAPE\n",
    "    mae = np.mean(np.abs(forecast - actual))                 # MAE\n",
    "    rmse = np.mean((forecast - actual)**2)**.5               # RMSE\n",
    "    mse = np.mean((forecast - actual)**2)                    # MSE\n",
    "    r2 = r2_score(forecast, actual)\n",
    "    \n",
    "    df_acc = pd.DataFrame({'MAE': [mae],\n",
    "                           'MSE': [mse],\n",
    "                           'MAPE': [mape],\n",
    "                           'RMSE': [rmse],\n",
    "                           'R2': [r2]},\n",
    "                          index=[str_name])\n",
    "    \n",
    "    return df_acc"
   ]
  },
  {
   "cell_type": "code",
   "execution_count": 58,
   "metadata": {},
   "outputs": [
    {
     "data": {
      "text/html": [
       "<div>\n",
       "<style scoped>\n",
       "    .dataframe tbody tr th:only-of-type {\n",
       "        vertical-align: middle;\n",
       "    }\n",
       "\n",
       "    .dataframe tbody tr th {\n",
       "        vertical-align: top;\n",
       "    }\n",
       "\n",
       "    .dataframe thead th {\n",
       "        text-align: right;\n",
       "    }\n",
       "</style>\n",
       "<table border=\"1\" class=\"dataframe\">\n",
       "  <thead>\n",
       "    <tr style=\"text-align: right;\">\n",
       "      <th></th>\n",
       "      <th>AR(p)</th>\n",
       "      <th>d</th>\n",
       "      <th>MA(q)</th>\n",
       "      <th>AIC</th>\n",
       "    </tr>\n",
       "  </thead>\n",
       "  <tbody>\n",
       "    <tr>\n",
       "      <th>0</th>\n",
       "      <td>0</td>\n",
       "      <td>1</td>\n",
       "      <td>0</td>\n",
       "      <td>-1680.864688</td>\n",
       "    </tr>\n",
       "    <tr>\n",
       "      <th>1</th>\n",
       "      <td>0</td>\n",
       "      <td>1</td>\n",
       "      <td>1</td>\n",
       "      <td>-1679.729393</td>\n",
       "    </tr>\n",
       "    <tr>\n",
       "      <th>2</th>\n",
       "      <td>0</td>\n",
       "      <td>1</td>\n",
       "      <td>2</td>\n",
       "      <td>-1678.619647</td>\n",
       "    </tr>\n",
       "    <tr>\n",
       "      <th>3</th>\n",
       "      <td>1</td>\n",
       "      <td>1</td>\n",
       "      <td>0</td>\n",
       "      <td>-1679.641010</td>\n",
       "    </tr>\n",
       "    <tr>\n",
       "      <th>4</th>\n",
       "      <td>1</td>\n",
       "      <td>1</td>\n",
       "      <td>1</td>\n",
       "      <td>-1678.857112</td>\n",
       "    </tr>\n",
       "    <tr>\n",
       "      <th>5</th>\n",
       "      <td>1</td>\n",
       "      <td>1</td>\n",
       "      <td>2</td>\n",
       "      <td>-1681.349601</td>\n",
       "    </tr>\n",
       "    <tr>\n",
       "      <th>6</th>\n",
       "      <td>2</td>\n",
       "      <td>1</td>\n",
       "      <td>0</td>\n",
       "      <td>-1678.887835</td>\n",
       "    </tr>\n",
       "    <tr>\n",
       "      <th>7</th>\n",
       "      <td>2</td>\n",
       "      <td>1</td>\n",
       "      <td>1</td>\n",
       "      <td>-1676.778819</td>\n",
       "    </tr>\n",
       "    <tr>\n",
       "      <th>8</th>\n",
       "      <td>2</td>\n",
       "      <td>1</td>\n",
       "      <td>2</td>\n",
       "      <td>-1687.046037</td>\n",
       "    </tr>\n",
       "    <tr>\n",
       "      <th>9</th>\n",
       "      <td>0</td>\n",
       "      <td>2</td>\n",
       "      <td>0</td>\n",
       "      <td>-1407.331451</td>\n",
       "    </tr>\n",
       "    <tr>\n",
       "      <th>10</th>\n",
       "      <td>0</td>\n",
       "      <td>2</td>\n",
       "      <td>1</td>\n",
       "      <td>-1668.584673</td>\n",
       "    </tr>\n",
       "    <tr>\n",
       "      <th>11</th>\n",
       "      <td>0</td>\n",
       "      <td>2</td>\n",
       "      <td>2</td>\n",
       "      <td>-1667.484910</td>\n",
       "    </tr>\n",
       "    <tr>\n",
       "      <th>12</th>\n",
       "      <td>1</td>\n",
       "      <td>2</td>\n",
       "      <td>0</td>\n",
       "      <td>-1507.164256</td>\n",
       "    </tr>\n",
       "    <tr>\n",
       "      <th>13</th>\n",
       "      <td>1</td>\n",
       "      <td>2</td>\n",
       "      <td>1</td>\n",
       "      <td>-1667.390762</td>\n",
       "    </tr>\n",
       "    <tr>\n",
       "      <th>14</th>\n",
       "      <td>1</td>\n",
       "      <td>2</td>\n",
       "      <td>2</td>\n",
       "      <td>-1668.664280</td>\n",
       "    </tr>\n",
       "    <tr>\n",
       "      <th>15</th>\n",
       "      <td>2</td>\n",
       "      <td>2</td>\n",
       "      <td>0</td>\n",
       "      <td>-1585.886142</td>\n",
       "    </tr>\n",
       "    <tr>\n",
       "      <th>16</th>\n",
       "      <td>2</td>\n",
       "      <td>2</td>\n",
       "      <td>1</td>\n",
       "      <td>-1666.677368</td>\n",
       "    </tr>\n",
       "    <tr>\n",
       "      <th>17</th>\n",
       "      <td>2</td>\n",
       "      <td>2</td>\n",
       "      <td>2</td>\n",
       "      <td>-1669.055775</td>\n",
       "    </tr>\n",
       "  </tbody>\n",
       "</table>\n",
       "</div>"
      ],
      "text/plain": [
       "    AR(p)  d  MA(q)          AIC\n",
       "0       0  1      0 -1680.864688\n",
       "1       0  1      1 -1679.729393\n",
       "2       0  1      2 -1678.619647\n",
       "3       1  1      0 -1679.641010\n",
       "4       1  1      1 -1678.857112\n",
       "5       1  1      2 -1681.349601\n",
       "6       2  1      0 -1678.887835\n",
       "7       2  1      1 -1676.778819\n",
       "8       2  1      2 -1687.046037\n",
       "9       0  2      0 -1407.331451\n",
       "10      0  2      1 -1668.584673\n",
       "11      0  2      2 -1667.484910\n",
       "12      1  2      0 -1507.164256\n",
       "13      1  2      1 -1667.390762\n",
       "14      1  2      2 -1668.664280\n",
       "15      2  2      0 -1585.886142\n",
       "16      2  2      1 -1666.677368\n",
       "17      2  2      2 -1669.055775"
      ]
     },
     "execution_count": 58,
     "metadata": {},
     "output_type": "execute_result"
    }
   ],
   "source": [
    "data_AIC = pd.DataFrame(aicVal, columns=['AR(p)', 'd', 'MA(q)', 'AIC'])\n",
    "data_AIC"
   ]
  },
  {
   "cell_type": "code",
   "execution_count": 65,
   "metadata": {},
   "outputs": [],
   "source": [
    "def arima_rolling(history, test):\n",
    "    \n",
    "    predictions = list()\n",
    "    for t in range(len(test)):\n",
    "        model = ARIMA(history, order=best_order)\n",
    "        model_fit = model.fit()\n",
    "        output = model_fit.forecast()\n",
    "        yhat = output[0]\n",
    "        predictions.append(yhat)\n",
    "        obs = test[t]\n",
    "        history.append(obs)\n",
    "        print('predicted=%f, expected=%f' % (yhat, obs))\n",
    "        \n",
    "    return predictions"
   ]
  },
  {
   "cell_type": "code",
   "execution_count": 66,
   "metadata": {},
   "outputs": [
    {
     "name": "stderr",
     "output_type": "stream",
     "text": [
      "c:\\Users\\EMANUEL\\miniconda3\\envs\\Eda\\lib\\site-packages\\statsmodels\\tsa\\statespace\\sarimax.py:966: UserWarning:\n",
      "\n",
      "Non-stationary starting autoregressive parameters found. Using zeros as starting parameters.\n",
      "\n",
      "c:\\Users\\EMANUEL\\miniconda3\\envs\\Eda\\lib\\site-packages\\statsmodels\\tsa\\statespace\\sarimax.py:978: UserWarning:\n",
      "\n",
      "Non-invertible starting MA parameters found. Using zeros as starting parameters.\n",
      "\n",
      "c:\\Users\\EMANUEL\\miniconda3\\envs\\Eda\\lib\\site-packages\\statsmodels\\base\\model.py:607: ConvergenceWarning:\n",
      "\n",
      "Maximum Likelihood optimization failed to converge. Check mle_retvals\n",
      "\n"
     ]
    },
    {
     "name": "stdout",
     "output_type": "stream",
     "text": [
      "predicted=0.391313, expected=0.390735\n"
     ]
    },
    {
     "name": "stderr",
     "output_type": "stream",
     "text": [
      "c:\\Users\\EMANUEL\\miniconda3\\envs\\Eda\\lib\\site-packages\\statsmodels\\base\\model.py:607: ConvergenceWarning:\n",
      "\n",
      "Maximum Likelihood optimization failed to converge. Check mle_retvals\n",
      "\n"
     ]
    },
    {
     "name": "stdout",
     "output_type": "stream",
     "text": [
      "predicted=0.388505, expected=0.389584\n"
     ]
    },
    {
     "name": "stderr",
     "output_type": "stream",
     "text": [
      "c:\\Users\\EMANUEL\\miniconda3\\envs\\Eda\\lib\\site-packages\\statsmodels\\base\\model.py:607: ConvergenceWarning:\n",
      "\n",
      "Maximum Likelihood optimization failed to converge. Check mle_retvals\n",
      "\n"
     ]
    },
    {
     "name": "stdout",
     "output_type": "stream",
     "text": [
      "predicted=0.389335, expected=0.392094\n"
     ]
    },
    {
     "name": "stderr",
     "output_type": "stream",
     "text": [
      "c:\\Users\\EMANUEL\\miniconda3\\envs\\Eda\\lib\\site-packages\\statsmodels\\base\\model.py:607: ConvergenceWarning:\n",
      "\n",
      "Maximum Likelihood optimization failed to converge. Check mle_retvals\n",
      "\n"
     ]
    },
    {
     "name": "stdout",
     "output_type": "stream",
     "text": [
      "predicted=0.395088, expected=0.383721\n"
     ]
    },
    {
     "name": "stderr",
     "output_type": "stream",
     "text": [
      "c:\\Users\\EMANUEL\\miniconda3\\envs\\Eda\\lib\\site-packages\\statsmodels\\base\\model.py:607: ConvergenceWarning:\n",
      "\n",
      "Maximum Likelihood optimization failed to converge. Check mle_retvals\n",
      "\n"
     ]
    },
    {
     "name": "stdout",
     "output_type": "stream",
     "text": [
      "predicted=0.380993, expected=0.394545\n"
     ]
    },
    {
     "name": "stderr",
     "output_type": "stream",
     "text": [
      "c:\\Users\\EMANUEL\\miniconda3\\envs\\Eda\\lib\\site-packages\\statsmodels\\base\\model.py:607: ConvergenceWarning:\n",
      "\n",
      "Maximum Likelihood optimization failed to converge. Check mle_retvals\n",
      "\n",
      "c:\\Users\\EMANUEL\\miniconda3\\envs\\Eda\\lib\\site-packages\\statsmodels\\base\\model.py:607: ConvergenceWarning:\n",
      "\n",
      "Maximum Likelihood optimization failed to converge. Check mle_retvals\n",
      "\n"
     ]
    },
    {
     "name": "stdout",
     "output_type": "stream",
     "text": [
      "predicted=0.395319, expected=0.389153\n",
      "predicted=0.391426, expected=0.386698\n",
      "predicted=0.384881, expected=0.381749\n"
     ]
    },
    {
     "name": "stderr",
     "output_type": "stream",
     "text": [
      "c:\\Users\\EMANUEL\\miniconda3\\envs\\Eda\\lib\\site-packages\\statsmodels\\base\\model.py:607: ConvergenceWarning:\n",
      "\n",
      "Maximum Likelihood optimization failed to converge. Check mle_retvals\n",
      "\n"
     ]
    },
    {
     "name": "stdout",
     "output_type": "stream",
     "text": [
      "predicted=0.383103, expected=0.387394\n",
      "predicted=0.388925, expected=0.395102\n"
     ]
    },
    {
     "name": "stderr",
     "output_type": "stream",
     "text": [
      "c:\\Users\\EMANUEL\\miniconda3\\envs\\Eda\\lib\\site-packages\\statsmodels\\base\\model.py:607: ConvergenceWarning:\n",
      "\n",
      "Maximum Likelihood optimization failed to converge. Check mle_retvals\n",
      "\n"
     ]
    },
    {
     "name": "stdout",
     "output_type": "stream",
     "text": [
      "predicted=0.392876, expected=0.386414\n"
     ]
    },
    {
     "name": "stderr",
     "output_type": "stream",
     "text": [
      "c:\\Users\\EMANUEL\\miniconda3\\envs\\Eda\\lib\\site-packages\\statsmodels\\base\\model.py:607: ConvergenceWarning:\n",
      "\n",
      "Maximum Likelihood optimization failed to converge. Check mle_retvals\n",
      "\n"
     ]
    },
    {
     "name": "stdout",
     "output_type": "stream",
     "text": [
      "predicted=0.387078, expected=0.378237\n"
     ]
    },
    {
     "name": "stderr",
     "output_type": "stream",
     "text": [
      "c:\\Users\\EMANUEL\\miniconda3\\envs\\Eda\\lib\\site-packages\\statsmodels\\base\\model.py:607: ConvergenceWarning:\n",
      "\n",
      "Maximum Likelihood optimization failed to converge. Check mle_retvals\n",
      "\n"
     ]
    },
    {
     "name": "stdout",
     "output_type": "stream",
     "text": [
      "predicted=0.379990, expected=0.351988\n"
     ]
    },
    {
     "name": "stderr",
     "output_type": "stream",
     "text": [
      "c:\\Users\\EMANUEL\\miniconda3\\envs\\Eda\\lib\\site-packages\\statsmodels\\base\\model.py:607: ConvergenceWarning:\n",
      "\n",
      "Maximum Likelihood optimization failed to converge. Check mle_retvals\n",
      "\n"
     ]
    },
    {
     "name": "stdout",
     "output_type": "stream",
     "text": [
      "predicted=0.348756, expected=0.354810\n"
     ]
    },
    {
     "name": "stderr",
     "output_type": "stream",
     "text": [
      "c:\\Users\\EMANUEL\\miniconda3\\envs\\Eda\\lib\\site-packages\\statsmodels\\base\\model.py:607: ConvergenceWarning:\n",
      "\n",
      "Maximum Likelihood optimization failed to converge. Check mle_retvals\n",
      "\n"
     ]
    },
    {
     "name": "stdout",
     "output_type": "stream",
     "text": [
      "predicted=0.356527, expected=0.350270\n"
     ]
    },
    {
     "name": "stderr",
     "output_type": "stream",
     "text": [
      "c:\\Users\\EMANUEL\\miniconda3\\envs\\Eda\\lib\\site-packages\\statsmodels\\base\\model.py:607: ConvergenceWarning:\n",
      "\n",
      "Maximum Likelihood optimization failed to converge. Check mle_retvals\n",
      "\n"
     ]
    },
    {
     "name": "stdout",
     "output_type": "stream",
     "text": [
      "predicted=0.350062, expected=0.338870\n"
     ]
    },
    {
     "name": "stderr",
     "output_type": "stream",
     "text": [
      "c:\\Users\\EMANUEL\\miniconda3\\envs\\Eda\\lib\\site-packages\\statsmodels\\base\\model.py:607: ConvergenceWarning:\n",
      "\n",
      "Maximum Likelihood optimization failed to converge. Check mle_retvals\n",
      "\n"
     ]
    },
    {
     "name": "stdout",
     "output_type": "stream",
     "text": [
      "predicted=0.336134, expected=0.349373\n"
     ]
    },
    {
     "name": "stderr",
     "output_type": "stream",
     "text": [
      "c:\\Users\\EMANUEL\\miniconda3\\envs\\Eda\\lib\\site-packages\\statsmodels\\base\\model.py:607: ConvergenceWarning:\n",
      "\n",
      "Maximum Likelihood optimization failed to converge. Check mle_retvals\n",
      "\n"
     ]
    },
    {
     "name": "stdout",
     "output_type": "stream",
     "text": [
      "predicted=0.351395, expected=0.346020\n"
     ]
    },
    {
     "name": "stderr",
     "output_type": "stream",
     "text": [
      "c:\\Users\\EMANUEL\\miniconda3\\envs\\Eda\\lib\\site-packages\\statsmodels\\base\\model.py:607: ConvergenceWarning:\n",
      "\n",
      "Maximum Likelihood optimization failed to converge. Check mle_retvals\n",
      "\n"
     ]
    },
    {
     "name": "stdout",
     "output_type": "stream",
     "text": [
      "predicted=0.345519, expected=0.349600\n"
     ]
    },
    {
     "name": "stderr",
     "output_type": "stream",
     "text": [
      "c:\\Users\\EMANUEL\\miniconda3\\envs\\Eda\\lib\\site-packages\\statsmodels\\base\\model.py:607: ConvergenceWarning:\n",
      "\n",
      "Maximum Likelihood optimization failed to converge. Check mle_retvals\n",
      "\n"
     ]
    },
    {
     "name": "stdout",
     "output_type": "stream",
     "text": [
      "predicted=0.346824, expected=0.354273\n"
     ]
    },
    {
     "name": "stderr",
     "output_type": "stream",
     "text": [
      "c:\\Users\\EMANUEL\\miniconda3\\envs\\Eda\\lib\\site-packages\\statsmodels\\base\\model.py:607: ConvergenceWarning:\n",
      "\n",
      "Maximum Likelihood optimization failed to converge. Check mle_retvals\n",
      "\n"
     ]
    },
    {
     "name": "stdout",
     "output_type": "stream",
     "text": [
      "predicted=0.355849, expected=0.352179\n"
     ]
    },
    {
     "name": "stderr",
     "output_type": "stream",
     "text": [
      "c:\\Users\\EMANUEL\\miniconda3\\envs\\Eda\\lib\\site-packages\\statsmodels\\base\\model.py:607: ConvergenceWarning:\n",
      "\n",
      "Maximum Likelihood optimization failed to converge. Check mle_retvals\n",
      "\n"
     ]
    },
    {
     "name": "stdout",
     "output_type": "stream",
     "text": [
      "predicted=0.350825, expected=0.346392\n"
     ]
    },
    {
     "name": "stderr",
     "output_type": "stream",
     "text": [
      "c:\\Users\\EMANUEL\\miniconda3\\envs\\Eda\\lib\\site-packages\\statsmodels\\base\\model.py:607: ConvergenceWarning:\n",
      "\n",
      "Maximum Likelihood optimization failed to converge. Check mle_retvals\n",
      "\n"
     ]
    },
    {
     "name": "stdout",
     "output_type": "stream",
     "text": [
      "predicted=0.345675, expected=0.365723\n"
     ]
    },
    {
     "name": "stderr",
     "output_type": "stream",
     "text": [
      "c:\\Users\\EMANUEL\\miniconda3\\envs\\Eda\\lib\\site-packages\\statsmodels\\base\\model.py:607: ConvergenceWarning:\n",
      "\n",
      "Maximum Likelihood optimization failed to converge. Check mle_retvals\n",
      "\n"
     ]
    },
    {
     "name": "stdout",
     "output_type": "stream",
     "text": [
      "predicted=0.367463, expected=0.368126\n"
     ]
    },
    {
     "name": "stderr",
     "output_type": "stream",
     "text": [
      "c:\\Users\\EMANUEL\\miniconda3\\envs\\Eda\\lib\\site-packages\\statsmodels\\base\\model.py:607: ConvergenceWarning:\n",
      "\n",
      "Maximum Likelihood optimization failed to converge. Check mle_retvals\n",
      "\n"
     ]
    },
    {
     "name": "stdout",
     "output_type": "stream",
     "text": [
      "predicted=0.365962, expected=0.356531\n"
     ]
    },
    {
     "name": "stderr",
     "output_type": "stream",
     "text": [
      "c:\\Users\\EMANUEL\\miniconda3\\envs\\Eda\\lib\\site-packages\\statsmodels\\base\\model.py:607: ConvergenceWarning:\n",
      "\n",
      "Maximum Likelihood optimization failed to converge. Check mle_retvals\n",
      "\n"
     ]
    },
    {
     "name": "stdout",
     "output_type": "stream",
     "text": [
      "predicted=0.357174, expected=0.342846\n"
     ]
    },
    {
     "name": "stderr",
     "output_type": "stream",
     "text": [
      "c:\\Users\\EMANUEL\\miniconda3\\envs\\Eda\\lib\\site-packages\\statsmodels\\base\\model.py:607: ConvergenceWarning:\n",
      "\n",
      "Maximum Likelihood optimization failed to converge. Check mle_retvals\n",
      "\n"
     ]
    },
    {
     "name": "stdout",
     "output_type": "stream",
     "text": [
      "predicted=0.346095, expected=0.345017\n",
      "predicted=0.342714, expected=0.339929\n"
     ]
    },
    {
     "name": "stderr",
     "output_type": "stream",
     "text": [
      "c:\\Users\\EMANUEL\\miniconda3\\envs\\Eda\\lib\\site-packages\\statsmodels\\base\\model.py:607: ConvergenceWarning:\n",
      "\n",
      "Maximum Likelihood optimization failed to converge. Check mle_retvals\n",
      "\n"
     ]
    }
   ],
   "source": [
    "test_4wl = test_4w.tolist()\n",
    "yhat_4w  = arima_rolling(train.tolist(), test_4wl)"
   ]
  },
  {
   "cell_type": "code",
   "execution_count": 69,
   "metadata": {},
   "outputs": [
    {
     "data": {
      "text/html": [
       "<div>\n",
       "<style scoped>\n",
       "    .dataframe tbody tr th:only-of-type {\n",
       "        vertical-align: middle;\n",
       "    }\n",
       "\n",
       "    .dataframe tbody tr th {\n",
       "        vertical-align: top;\n",
       "    }\n",
       "\n",
       "    .dataframe thead th {\n",
       "        text-align: right;\n",
       "    }\n",
       "</style>\n",
       "<table border=\"1\" class=\"dataframe\">\n",
       "  <thead>\n",
       "    <tr style=\"text-align: right;\">\n",
       "      <th></th>\n",
       "      <th>MAE</th>\n",
       "      <th>MSE</th>\n",
       "      <th>MAPE</th>\n",
       "      <th>RMSE</th>\n",
       "      <th>R2</th>\n",
       "    </tr>\n",
       "  </thead>\n",
       "  <tbody>\n",
       "    <tr>\n",
       "      <th>week 1</th>\n",
       "      <td>0.007401</td>\n",
       "      <td>0.000092</td>\n",
       "      <td>0.020225</td>\n",
       "      <td>0.009578</td>\n",
       "      <td>0.761286</td>\n",
       "    </tr>\n",
       "  </tbody>\n",
       "</table>\n",
       "</div>"
      ],
      "text/plain": [
       "             MAE       MSE      MAPE      RMSE        R2\n",
       "week 1  0.007401  0.000092  0.020225  0.009578  0.761286"
      ]
     },
     "execution_count": 69,
     "metadata": {},
     "output_type": "execute_result"
    }
   ],
   "source": [
    "forecast_accuracy(np.array(test_4wl), np.array(yhat_4w), \"week 1\")"
   ]
  },
  {
   "cell_type": "code",
   "execution_count": 70,
   "metadata": {},
   "outputs": [
    {
     "data": {
      "image/png": "[encoded data removed]",
      "text/plain": [
       "<Figure size 1000x600 with 1 Axes>"
      ]
     },
     "metadata": {},
     "output_type": "display_data"
    }
   ],
   "source": [
    "ax = sns.lineplot(x=dates_train[-100:], y=train[-100:], label=\"Train\", color='g')\n",
    "sns.lineplot(x=dates_4w, y=test_4wl, label=\"Test\", color='b')\n",
    "sns.lineplot(x=dates_4w, y=yhat_4w, label=\"Forecast\", color='r')\n",
    "plt.show()"
   ]
  },
  {
   "cell_type": "markdown",
   "metadata": {},
   "source": [
    "### 21 dias"
   ]
  },
  {
   "cell_type": "code",
   "execution_count": null,
   "metadata": {},
   "outputs": [],
   "source": []
  },
  {
   "cell_type": "markdown",
   "metadata": {},
   "source": [
    "***Criterios AIC, BIC, HQIC***"
   ]
  },
  {
   "cell_type": "code",
   "execution_count": null,
   "metadata": {},
   "outputs": [],
   "source": []
  }
 ],
 "metadata": {
  "kernelspec": {
   "display_name": "Eda",
   "language": "python",
   "name": "python3"
  },
  "language_info": {
   "codemirror_mode": {
    "name": "ipython",
    "version": 3
   },
   "file_extension": ".py",
   "mimetype": "text/x-python",
   "name": "python",
   "nbconvert_exporter": "python",
   "pygments_lexer": "ipython3",
   "version": "3.9.19"
  }
 },
 "nbformat": 4,
 "nbformat_minor": 2
}
